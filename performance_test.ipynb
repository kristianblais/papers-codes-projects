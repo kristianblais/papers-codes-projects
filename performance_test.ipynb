{
 "cells": [
  {
   "cell_type": "markdown",
   "metadata": {},
   "source": [
    "# Julia Code Performance/Efficiency Comparison\n",
    "\n",
    "This is a Jupyer Notebook that will compare the speed/efficiency of different Julia functions that practical perform the same opperation. These comparisons are not supposed to be super rigerous, nor  inclusive of all the methods to do a given opperation. Instead, it's more intended as a personal reference so I don't waste my time using inefficient processes in very large models and data sets. However, hopefully it can also serve as a useful reference to anyone else who wants to make their Julia code a little more efficient!"
   ]
  },
  {
   "cell_type": "markdown",
   "metadata": {},
   "source": [
    "## Subsetting Dataframes\n",
    "\n",
    "`@filter` macro from the Query.jl package \n",
    "\n",
    "vs. \n",
    "\n",
    "`subset` function in the Dataframes.jl package\n",
    "\n",
    "vs.\n",
    "\n",
    "`df[df.col .== condition, :]` approach with Dataframes.jl\n",
    "\n",
    "\n",
    "Will be performing this on the zwillow housing price index for all gathered zip codes from 2000-2022. We will pivot the data so that it will have ~7.4 million rows to filter through. Our subsetting condition will be to obtain only housing value indicies from the city of New York. Because the third method cannot handle `missing` values, we will run two rounds of tests. One where the data has `missing` values, and a second where we replace all `missing` values with a string of \"NA\". We will also conduct a third test where we subset the data with multiple conditions over multiple columns."
   ]
  },
  {
   "cell_type": "markdown",
   "metadata": {},
   "source": [
    "### Round 1 - With missing values, One subset"
   ]
  },
  {
   "cell_type": "markdown",
   "metadata": {},
   "source": [
    "We will start by loading the data in using `CSV.read()` function. However, Zwillow provides the housing data in a table format, where the dates are column names and the zip codes are row names. This makes it easy for humans to read but is a pain in the butt to manipulate using code. Therefore, we will also use the `stack()` function, to \"pivot\" the table so that the dates are in their own column."
   ]
  },
  {
   "cell_type": "code",
   "execution_count": 14,
   "metadata": {},
   "outputs": [
    {
     "data": {
      "text/plain": [
       "11-element Vector{String}:\n",
       " \"RegionID\"\n",
       " \"SizeRank\"\n",
       " \"RegionName\"\n",
       " \"RegionType\"\n",
       " \"StateName\"\n",
       " \"State\"\n",
       " \"City\"\n",
       " \"Metro\"\n",
       " \"CountyName\"\n",
       " \"variable\"\n",
       " \"value\""
      ]
     },
     "execution_count": 14,
     "metadata": {},
     "output_type": "execute_result"
    }
   ],
   "source": [
    "using BenchmarkTools, Query, DataFrames, CSV\n",
    "using Pipe: @pipe\n",
    "#@btime zhvi = stack(DataFrame(CSV.File(\"data/zhvi_byzip_sm_sa_month.csv\")),10:281)\n",
    "zhvi = stack(CSV.read(\"data/zhvi_byzip_sm_sa_month.csv\",DataFrame),10:281)\n",
    "z = zhvi\n",
    "first(zhvi,6)\n",
    "names(zhvi)"
   ]
  },
  {
   "cell_type": "markdown",
   "metadata": {},
   "source": [
    "Here, \"variable\" is the date and \"value\" is the Zwillow Housing Value Index. They are not properly named due to the `stack()` pivot."
   ]
  },
  {
   "cell_type": "markdown",
   "metadata": {},
   "source": [
    "First let us test `@filter`. In the first test round, we will try subsetting the data once, so that the resulting data frame only has the housing values for New York City. In this trial, we will not remove `missing` values."
   ]
  },
  {
   "cell_type": "code",
   "execution_count": 2,
   "metadata": {},
   "outputs": [
    {
     "data": {
      "text/html": [
       "<div class=\"data-frame\"><p>1 rows × 3 columns</p><table class=\"data-frame\"><thead><tr><th></th><th>method</th><th>type</th><th>time</th></tr><tr><th></th><th title=\"String\">String</th><th title=\"String\">String</th><th title=\"Float64\">Float64</th></tr></thead><tbody><tr><th>1</th><td>@filter</td><td>with missing - 1 cond.</td><td>2.58527e9</td></tr></tbody></table></div>"
      ],
      "text/latex": [
       "\\begin{tabular}{r|ccc}\n",
       "\t& method & type & time\\\\\n",
       "\t\\hline\n",
       "\t& String & String & Float64\\\\\n",
       "\t\\hline\n",
       "\t1 & @filter & with missing - 1 cond. & 2.58527e9 \\\\\n",
       "\\end{tabular}\n"
      ],
      "text/plain": [
       "\u001b[1m1×3 DataFrame\u001b[0m\n",
       "\u001b[1m Row \u001b[0m│\u001b[1m method  \u001b[0m\u001b[1m type                   \u001b[0m\u001b[1m time      \u001b[0m\n",
       "\u001b[1m     \u001b[0m│\u001b[90m String  \u001b[0m\u001b[90m String                 \u001b[0m\u001b[90m Float64   \u001b[0m\n",
       "─────┼────────────────────────────────────────────\n",
       "   1 │ @filter  with missing - 1 cond.  2.58527e9"
      ]
     },
     "execution_count": 2,
     "metadata": {},
     "output_type": "execute_result"
    }
   ],
   "source": [
    "b11 = @benchmark(zhvi |> @filter(_.City == \"New York\") |> DataFrame)\n",
    "times = DataFrame(method = \"@filter\", type = \"with missing - 1 cond.\", time = mean(b11.times))"
   ]
  },
  {
   "cell_type": "markdown",
   "metadata": {},
   "source": [
    "Now we test `subset()`"
   ]
  },
  {
   "cell_type": "code",
   "execution_count": 3,
   "metadata": {},
   "outputs": [
    {
     "data": {
      "text/html": [
       "<div class=\"data-frame\"><p>2 rows × 3 columns</p><table class=\"data-frame\"><thead><tr><th></th><th>method</th><th>type</th><th>time</th></tr><tr><th></th><th title=\"String\">String</th><th title=\"String\">String</th><th title=\"Float64\">Float64</th></tr></thead><tbody><tr><th>1</th><td>@filter</td><td>with missing - 1 cond.</td><td>2.58527e9</td></tr><tr><th>2</th><td>subset()</td><td>with missing - 1 cond.</td><td>9.87876e7</td></tr></tbody></table></div>"
      ],
      "text/latex": [
       "\\begin{tabular}{r|ccc}\n",
       "\t& method & type & time\\\\\n",
       "\t\\hline\n",
       "\t& String & String & Float64\\\\\n",
       "\t\\hline\n",
       "\t1 & @filter & with missing - 1 cond. & 2.58527e9 \\\\\n",
       "\t2 & subset() & with missing - 1 cond. & 9.87876e7 \\\\\n",
       "\\end{tabular}\n"
      ],
      "text/plain": [
       "\u001b[1m2×3 DataFrame\u001b[0m\n",
       "\u001b[1m Row \u001b[0m│\u001b[1m method   \u001b[0m\u001b[1m type                   \u001b[0m\u001b[1m time      \u001b[0m\n",
       "\u001b[1m     \u001b[0m│\u001b[90m String   \u001b[0m\u001b[90m String                 \u001b[0m\u001b[90m Float64   \u001b[0m\n",
       "─────┼─────────────────────────────────────────────\n",
       "   1 │ @filter   with missing - 1 cond.  2.58527e9\n",
       "   2 │ subset()  with missing - 1 cond.  9.87876e7"
      ]
     },
     "execution_count": 3,
     "metadata": {},
     "output_type": "execute_result"
    }
   ],
   "source": [
    "b12 = @benchmark subset(zhvi, :City => c -> c .== \"New York\",skipmissing=true)\n",
    "push!(times,[\"subset()\",\"with missing - 1 cond.\",mean(b12.times)])"
   ]
  },
  {
   "cell_type": "markdown",
   "metadata": {},
   "source": [
    "### Round 2 - No Missing Values, One Condition\n",
    "Now we will replace the `missing` values with the string \"NA\""
   ]
  },
  {
   "cell_type": "code",
   "execution_count": 4,
   "metadata": {},
   "outputs": [
    {
     "data": {
      "text/html": [
       "<div class=\"data-frame\"><p>6 rows × 11 columns (omitted printing of 3 columns)</p><table class=\"data-frame\"><thead><tr><th></th><th>RegionID</th><th>SizeRank</th><th>RegionName</th><th>RegionType</th><th>StateName</th><th>State</th><th>City</th><th>Metro</th></tr><tr><th></th><th title=\"Int64\">Int64</th><th title=\"Int64\">Int64</th><th title=\"Int64\">Int64</th><th title=\"String3\">String3</th><th title=\"String3\">String3</th><th title=\"String3\">String3</th><th title=\"String\">String</th><th title=\"Union{Missing, String}\">String?</th></tr></thead><tbody><tr><th>1</th><td>91940</td><td>0</td><td>77449</td><td>zip</td><td>TX</td><td>TX</td><td>NA</td><td>Houston-The Woodlands-Sugar Land, TX</td></tr><tr><th>2</th><td>91982</td><td>1</td><td>77494</td><td>zip</td><td>TX</td><td>TX</td><td>NA</td><td>Houston-The Woodlands-Sugar Land, TX</td></tr><tr><th>3</th><td>93144</td><td>2</td><td>79936</td><td>zip</td><td>TX</td><td>TX</td><td>El Paso</td><td>El Paso, TX</td></tr><tr><th>4</th><td>62080</td><td>3</td><td>11368</td><td>zip</td><td>NY</td><td>NY</td><td>New York</td><td>New York-Newark-Jersey City, NY-NJ-PA</td></tr><tr><th>5</th><td>62093</td><td>4</td><td>11385</td><td>zip</td><td>NY</td><td>NY</td><td>New York</td><td>New York-Newark-Jersey City, NY-NJ-PA</td></tr><tr><th>6</th><td>95992</td><td>5</td><td>90011</td><td>zip</td><td>CA</td><td>CA</td><td>Los Angeles</td><td>Los Angeles-Long Beach-Anaheim, CA</td></tr></tbody></table></div>"
      ],
      "text/latex": [
       "\\begin{tabular}{r|ccccccccc}\n",
       "\t& RegionID & SizeRank & RegionName & RegionType & StateName & State & City & Metro & \\\\\n",
       "\t\\hline\n",
       "\t& Int64 & Int64 & Int64 & String3 & String3 & String3 & String & String? & \\\\\n",
       "\t\\hline\n",
       "\t1 & 91940 & 0 & 77449 & zip & TX & TX & NA & Houston-The Woodlands-Sugar Land, TX & $\\dots$ \\\\\n",
       "\t2 & 91982 & 1 & 77494 & zip & TX & TX & NA & Houston-The Woodlands-Sugar Land, TX & $\\dots$ \\\\\n",
       "\t3 & 93144 & 2 & 79936 & zip & TX & TX & El Paso & El Paso, TX & $\\dots$ \\\\\n",
       "\t4 & 62080 & 3 & 11368 & zip & NY & NY & New York & New York-Newark-Jersey City, NY-NJ-PA & $\\dots$ \\\\\n",
       "\t5 & 62093 & 4 & 11385 & zip & NY & NY & New York & New York-Newark-Jersey City, NY-NJ-PA & $\\dots$ \\\\\n",
       "\t6 & 95992 & 5 & 90011 & zip & CA & CA & Los Angeles & Los Angeles-Long Beach-Anaheim, CA & $\\dots$ \\\\\n",
       "\\end{tabular}\n"
      ],
      "text/plain": [
       "\u001b[1m6×11 DataFrame\u001b[0m\n",
       "\u001b[1m Row \u001b[0m│\u001b[1m RegionID \u001b[0m\u001b[1m SizeRank \u001b[0m\u001b[1m RegionName \u001b[0m\u001b[1m RegionType \u001b[0m\u001b[1m StateName \u001b[0m\u001b[1m State   \u001b[0m\u001b[1m City   \u001b[0m ⋯\n",
       "\u001b[1m     \u001b[0m│\u001b[90m Int64    \u001b[0m\u001b[90m Int64    \u001b[0m\u001b[90m Int64      \u001b[0m\u001b[90m String3    \u001b[0m\u001b[90m String3   \u001b[0m\u001b[90m String3 \u001b[0m\u001b[90m String \u001b[0m ⋯\n",
       "─────┼──────────────────────────────────────────────────────────────────────────\n",
       "   1 │    91940         0       77449  zip         TX         TX       NA      ⋯\n",
       "   2 │    91982         1       77494  zip         TX         TX       NA\n",
       "   3 │    93144         2       79936  zip         TX         TX       El Paso\n",
       "   4 │    62080         3       11368  zip         NY         NY       New Yor\n",
       "   5 │    62093         4       11385  zip         NY         NY       New Yor ⋯\n",
       "   6 │    95992         5       90011  zip         CA         CA       Los Ang\n",
       "\u001b[36m                                                               5 columns omitted\u001b[0m"
      ]
     },
     "execution_count": 4,
     "metadata": {},
     "output_type": "execute_result"
    }
   ],
   "source": [
    "zhvi_nomiss = zhvi\n",
    "zhvi_nomiss.City = replace(zhvi_nomiss.City, missing => \"NA\")\n",
    "first(zhvi_nomiss,6)"
   ]
  },
  {
   "cell_type": "markdown",
   "metadata": {},
   "source": [
    "Testing `@filter`"
   ]
  },
  {
   "cell_type": "code",
   "execution_count": 5,
   "metadata": {},
   "outputs": [
    {
     "data": {
      "text/html": [
       "<div class=\"data-frame\"><p>3 rows × 3 columns</p><table class=\"data-frame\"><thead><tr><th></th><th>method</th><th>type</th><th>time</th></tr><tr><th></th><th title=\"String\">String</th><th title=\"String\">String</th><th title=\"Float64\">Float64</th></tr></thead><tbody><tr><th>1</th><td>@filter</td><td>with missing - 1 cond.</td><td>2.58527e9</td></tr><tr><th>2</th><td>subset()</td><td>with missing - 1 cond.</td><td>9.87876e7</td></tr><tr><th>3</th><td>@filter</td><td>no missing - 1 cond.</td><td>2.16561e9</td></tr></tbody></table></div>"
      ],
      "text/latex": [
       "\\begin{tabular}{r|ccc}\n",
       "\t& method & type & time\\\\\n",
       "\t\\hline\n",
       "\t& String & String & Float64\\\\\n",
       "\t\\hline\n",
       "\t1 & @filter & with missing - 1 cond. & 2.58527e9 \\\\\n",
       "\t2 & subset() & with missing - 1 cond. & 9.87876e7 \\\\\n",
       "\t3 & @filter & no missing - 1 cond. & 2.16561e9 \\\\\n",
       "\\end{tabular}\n"
      ],
      "text/plain": [
       "\u001b[1m3×3 DataFrame\u001b[0m\n",
       "\u001b[1m Row \u001b[0m│\u001b[1m method   \u001b[0m\u001b[1m type                   \u001b[0m\u001b[1m time      \u001b[0m\n",
       "\u001b[1m     \u001b[0m│\u001b[90m String   \u001b[0m\u001b[90m String                 \u001b[0m\u001b[90m Float64   \u001b[0m\n",
       "─────┼─────────────────────────────────────────────\n",
       "   1 │ @filter   with missing - 1 cond.  2.58527e9\n",
       "   2 │ subset()  with missing - 1 cond.  9.87876e7\n",
       "   3 │ @filter   no missing - 1 cond.    2.16561e9"
      ]
     },
     "execution_count": 5,
     "metadata": {},
     "output_type": "execute_result"
    }
   ],
   "source": [
    "b21 = @benchmark(zhvi_nomiss |> @filter(_.City == \"New York\") |> DataFrame)\n",
    "push!(times,[\"@filter\",\"no missing - 1 cond.\",mean(b21.times)])"
   ]
  },
  {
   "cell_type": "markdown",
   "metadata": {},
   "source": [
    "Using `subset()`"
   ]
  },
  {
   "cell_type": "code",
   "execution_count": 6,
   "metadata": {},
   "outputs": [
    {
     "data": {
      "text/html": [
       "<div class=\"data-frame\"><p>4 rows × 3 columns</p><table class=\"data-frame\"><thead><tr><th></th><th>method</th><th>type</th><th>time</th></tr><tr><th></th><th title=\"String\">String</th><th title=\"String\">String</th><th title=\"Float64\">Float64</th></tr></thead><tbody><tr><th>1</th><td>@filter</td><td>with missing - 1 cond.</td><td>2.58527e9</td></tr><tr><th>2</th><td>subset()</td><td>with missing - 1 cond.</td><td>9.87876e7</td></tr><tr><th>3</th><td>@filter</td><td>no missing - 1 cond.</td><td>2.16561e9</td></tr><tr><th>4</th><td>subset()</td><td>no missing - 1 cond.</td><td>1.11186e8</td></tr></tbody></table></div>"
      ],
      "text/latex": [
       "\\begin{tabular}{r|ccc}\n",
       "\t& method & type & time\\\\\n",
       "\t\\hline\n",
       "\t& String & String & Float64\\\\\n",
       "\t\\hline\n",
       "\t1 & @filter & with missing - 1 cond. & 2.58527e9 \\\\\n",
       "\t2 & subset() & with missing - 1 cond. & 9.87876e7 \\\\\n",
       "\t3 & @filter & no missing - 1 cond. & 2.16561e9 \\\\\n",
       "\t4 & subset() & no missing - 1 cond. & 1.11186e8 \\\\\n",
       "\\end{tabular}\n"
      ],
      "text/plain": [
       "\u001b[1m4×3 DataFrame\u001b[0m\n",
       "\u001b[1m Row \u001b[0m│\u001b[1m method   \u001b[0m\u001b[1m type                   \u001b[0m\u001b[1m time      \u001b[0m\n",
       "\u001b[1m     \u001b[0m│\u001b[90m String   \u001b[0m\u001b[90m String                 \u001b[0m\u001b[90m Float64   \u001b[0m\n",
       "─────┼─────────────────────────────────────────────\n",
       "   1 │ @filter   with missing - 1 cond.  2.58527e9\n",
       "   2 │ subset()  with missing - 1 cond.  9.87876e7\n",
       "   3 │ @filter   no missing - 1 cond.    2.16561e9\n",
       "   4 │ subset()  no missing - 1 cond.    1.11186e8"
      ]
     },
     "execution_count": 6,
     "metadata": {},
     "output_type": "execute_result"
    }
   ],
   "source": [
    "b22 = @benchmark subset(zhvi_nomiss, :City => c -> c .== \"New York\",skipmissing=false)\n",
    "push!(times,[\"subset()\",\"no missing - 1 cond.\",mean(b22.times)])"
   ]
  },
  {
   "cell_type": "markdown",
   "metadata": {},
   "source": [
    "Now using bracket conditions"
   ]
  },
  {
   "cell_type": "code",
   "execution_count": 7,
   "metadata": {},
   "outputs": [
    {
     "data": {
      "text/html": [
       "<div class=\"data-frame\"><p>5 rows × 3 columns</p><table class=\"data-frame\"><thead><tr><th></th><th>method</th><th>type</th><th>time</th></tr><tr><th></th><th title=\"String\">String</th><th title=\"String\">String</th><th title=\"Float64\">Float64</th></tr></thead><tbody><tr><th>1</th><td>@filter</td><td>with missing - 1 cond.</td><td>2.58527e9</td></tr><tr><th>2</th><td>subset()</td><td>with missing - 1 cond.</td><td>9.87876e7</td></tr><tr><th>3</th><td>@filter</td><td>no missing - 1 cond.</td><td>2.16561e9</td></tr><tr><th>4</th><td>subset()</td><td>no missing - 1 cond.</td><td>1.11186e8</td></tr><tr><th>5</th><td>brackets</td><td>no missing - 1 cond.</td><td>9.14419e7</td></tr></tbody></table></div>"
      ],
      "text/latex": [
       "\\begin{tabular}{r|ccc}\n",
       "\t& method & type & time\\\\\n",
       "\t\\hline\n",
       "\t& String & String & Float64\\\\\n",
       "\t\\hline\n",
       "\t1 & @filter & with missing - 1 cond. & 2.58527e9 \\\\\n",
       "\t2 & subset() & with missing - 1 cond. & 9.87876e7 \\\\\n",
       "\t3 & @filter & no missing - 1 cond. & 2.16561e9 \\\\\n",
       "\t4 & subset() & no missing - 1 cond. & 1.11186e8 \\\\\n",
       "\t5 & brackets & no missing - 1 cond. & 9.14419e7 \\\\\n",
       "\\end{tabular}\n"
      ],
      "text/plain": [
       "\u001b[1m5×3 DataFrame\u001b[0m\n",
       "\u001b[1m Row \u001b[0m│\u001b[1m method   \u001b[0m\u001b[1m type                   \u001b[0m\u001b[1m time      \u001b[0m\n",
       "\u001b[1m     \u001b[0m│\u001b[90m String   \u001b[0m\u001b[90m String                 \u001b[0m\u001b[90m Float64   \u001b[0m\n",
       "─────┼─────────────────────────────────────────────\n",
       "   1 │ @filter   with missing - 1 cond.  2.58527e9\n",
       "   2 │ subset()  with missing - 1 cond.  9.87876e7\n",
       "   3 │ @filter   no missing - 1 cond.    2.16561e9\n",
       "   4 │ subset()  no missing - 1 cond.    1.11186e8\n",
       "   5 │ brackets  no missing - 1 cond.    9.14419e7"
      ]
     },
     "execution_count": 7,
     "metadata": {},
     "output_type": "execute_result"
    }
   ],
   "source": [
    "b23 = @benchmark zhvi_nomiss[zhvi_nomiss.City .== \"New York\",:]\n",
    "push!(times,[\"brackets\",\"no missing - 1 cond.\",mean(b23.times)])"
   ]
  },
  {
   "cell_type": "markdown",
   "metadata": {},
   "source": [
    "### Round 3 - No Missing, Multiple Conditions\n",
    "\n",
    "Here we will condition that the city must be New York, that the Size Rank must be greater than 50, and that the zip code must be odd."
   ]
  },
  {
   "cell_type": "markdown",
   "metadata": {},
   "source": [
    "Testing `@filter`"
   ]
  },
  {
   "cell_type": "code",
   "execution_count": 8,
   "metadata": {},
   "outputs": [
    {
     "data": {
      "text/html": [
       "<div class=\"data-frame\"><p>6 rows × 3 columns</p><table class=\"data-frame\"><thead><tr><th></th><th>method</th><th>type</th><th>time</th></tr><tr><th></th><th title=\"String\">String</th><th title=\"String\">String</th><th title=\"Float64\">Float64</th></tr></thead><tbody><tr><th>1</th><td>@filter</td><td>with missing - 1 cond.</td><td>2.58527e9</td></tr><tr><th>2</th><td>subset()</td><td>with missing - 1 cond.</td><td>9.87876e7</td></tr><tr><th>3</th><td>@filter</td><td>no missing - 1 cond.</td><td>2.16561e9</td></tr><tr><th>4</th><td>subset()</td><td>no missing - 1 cond.</td><td>1.11186e8</td></tr><tr><th>5</th><td>brackets</td><td>no missing - 1 cond.</td><td>9.14419e7</td></tr><tr><th>6</th><td>@filter</td><td>no missing - mult cond.</td><td>2.21444e9</td></tr></tbody></table></div>"
      ],
      "text/latex": [
       "\\begin{tabular}{r|ccc}\n",
       "\t& method & type & time\\\\\n",
       "\t\\hline\n",
       "\t& String & String & Float64\\\\\n",
       "\t\\hline\n",
       "\t1 & @filter & with missing - 1 cond. & 2.58527e9 \\\\\n",
       "\t2 & subset() & with missing - 1 cond. & 9.87876e7 \\\\\n",
       "\t3 & @filter & no missing - 1 cond. & 2.16561e9 \\\\\n",
       "\t4 & subset() & no missing - 1 cond. & 1.11186e8 \\\\\n",
       "\t5 & brackets & no missing - 1 cond. & 9.14419e7 \\\\\n",
       "\t6 & @filter & no missing - mult cond. & 2.21444e9 \\\\\n",
       "\\end{tabular}\n"
      ],
      "text/plain": [
       "\u001b[1m6×3 DataFrame\u001b[0m\n",
       "\u001b[1m Row \u001b[0m│\u001b[1m method   \u001b[0m\u001b[1m type                    \u001b[0m\u001b[1m time      \u001b[0m\n",
       "\u001b[1m     \u001b[0m│\u001b[90m String   \u001b[0m\u001b[90m String                  \u001b[0m\u001b[90m Float64   \u001b[0m\n",
       "─────┼──────────────────────────────────────────────\n",
       "   1 │ @filter   with missing - 1 cond.   2.58527e9\n",
       "   2 │ subset()  with missing - 1 cond.   9.87876e7\n",
       "   3 │ @filter   no missing - 1 cond.     2.16561e9\n",
       "   4 │ subset()  no missing - 1 cond.     1.11186e8\n",
       "   5 │ brackets  no missing - 1 cond.     9.14419e7\n",
       "   6 │ @filter   no missing - mult cond.  2.21444e9"
      ]
     },
     "execution_count": 8,
     "metadata": {},
     "output_type": "execute_result"
    }
   ],
   "source": [
    "b31 = @benchmark(zhvi_nomiss |> @filter(_.City == \"New York\" && _.SizeRank > 50 && isodd(_.RegionName)) |> DataFrame)\n",
    "push!(times,[\"@filter\",\"no missing - mult cond.\",mean(b31.times)])"
   ]
  },
  {
   "cell_type": "markdown",
   "metadata": {},
   "source": [
    "Using `subset()`"
   ]
  },
  {
   "cell_type": "code",
   "execution_count": 9,
   "metadata": {},
   "outputs": [
    {
     "data": {
      "text/html": [
       "<div class=\"data-frame\"><p>7 rows × 3 columns</p><table class=\"data-frame\"><thead><tr><th></th><th>method</th><th>type</th><th>time</th></tr><tr><th></th><th title=\"String\">String</th><th title=\"String\">String</th><th title=\"Float64\">Float64</th></tr></thead><tbody><tr><th>1</th><td>@filter</td><td>with missing - 1 cond.</td><td>2.58527e9</td></tr><tr><th>2</th><td>subset()</td><td>with missing - 1 cond.</td><td>9.87876e7</td></tr><tr><th>3</th><td>@filter</td><td>no missing - 1 cond.</td><td>2.16561e9</td></tr><tr><th>4</th><td>subset()</td><td>no missing - 1 cond.</td><td>1.11186e8</td></tr><tr><th>5</th><td>brackets</td><td>no missing - 1 cond.</td><td>9.14419e7</td></tr><tr><th>6</th><td>@filter</td><td>no missing - mult cond.</td><td>2.21444e9</td></tr><tr><th>7</th><td>subset()</td><td>no missing - mult cond.</td><td>1.60164e8</td></tr></tbody></table></div>"
      ],
      "text/latex": [
       "\\begin{tabular}{r|ccc}\n",
       "\t& method & type & time\\\\\n",
       "\t\\hline\n",
       "\t& String & String & Float64\\\\\n",
       "\t\\hline\n",
       "\t1 & @filter & with missing - 1 cond. & 2.58527e9 \\\\\n",
       "\t2 & subset() & with missing - 1 cond. & 9.87876e7 \\\\\n",
       "\t3 & @filter & no missing - 1 cond. & 2.16561e9 \\\\\n",
       "\t4 & subset() & no missing - 1 cond. & 1.11186e8 \\\\\n",
       "\t5 & brackets & no missing - 1 cond. & 9.14419e7 \\\\\n",
       "\t6 & @filter & no missing - mult cond. & 2.21444e9 \\\\\n",
       "\t7 & subset() & no missing - mult cond. & 1.60164e8 \\\\\n",
       "\\end{tabular}\n"
      ],
      "text/plain": [
       "\u001b[1m7×3 DataFrame\u001b[0m\n",
       "\u001b[1m Row \u001b[0m│\u001b[1m method   \u001b[0m\u001b[1m type                    \u001b[0m\u001b[1m time      \u001b[0m\n",
       "\u001b[1m     \u001b[0m│\u001b[90m String   \u001b[0m\u001b[90m String                  \u001b[0m\u001b[90m Float64   \u001b[0m\n",
       "─────┼──────────────────────────────────────────────\n",
       "   1 │ @filter   with missing - 1 cond.   2.58527e9\n",
       "   2 │ subset()  with missing - 1 cond.   9.87876e7\n",
       "   3 │ @filter   no missing - 1 cond.     2.16561e9\n",
       "   4 │ subset()  no missing - 1 cond.     1.11186e8\n",
       "   5 │ brackets  no missing - 1 cond.     9.14419e7\n",
       "   6 │ @filter   no missing - mult cond.  2.21444e9\n",
       "   7 │ subset()  no missing - mult cond.  1.60164e8"
      ]
     },
     "execution_count": 9,
     "metadata": {},
     "output_type": "execute_result"
    }
   ],
   "source": [
    "b32 = @benchmark subset(zhvi_nomiss, :City => c -> c .== \"New York\",:SizeRank => size -> size .> 50, :RegionName => zip -> isodd.(zip),skipmissing=false)\n",
    "push!(times,[\"subset()\",\"no missing - mult cond.\",mean(b32.times)])"
   ]
  },
  {
   "cell_type": "markdown",
   "metadata": {},
   "source": [
    "Using bracket conditions"
   ]
  },
  {
   "cell_type": "code",
   "execution_count": 10,
   "metadata": {},
   "outputs": [
    {
     "data": {
      "text/html": [
       "<div class=\"data-frame\"><p>8 rows × 3 columns</p><table class=\"data-frame\"><thead><tr><th></th><th>method</th><th>type</th><th>time</th></tr><tr><th></th><th title=\"String\">String</th><th title=\"String\">String</th><th title=\"Float64\">Float64</th></tr></thead><tbody><tr><th>1</th><td>@filter</td><td>with missing - 1 cond.</td><td>2.58527e9</td></tr><tr><th>2</th><td>subset()</td><td>with missing - 1 cond.</td><td>9.87876e7</td></tr><tr><th>3</th><td>@filter</td><td>no missing - 1 cond.</td><td>2.16561e9</td></tr><tr><th>4</th><td>subset()</td><td>no missing - 1 cond.</td><td>1.11186e8</td></tr><tr><th>5</th><td>brackets</td><td>no missing - 1 cond.</td><td>9.14419e7</td></tr><tr><th>6</th><td>@filter</td><td>no missing - mult cond.</td><td>2.21444e9</td></tr><tr><th>7</th><td>subset()</td><td>no missing - mult cond.</td><td>1.60164e8</td></tr><tr><th>8</th><td>brackets</td><td>no missing - mult cond.</td><td>1.11657e8</td></tr></tbody></table></div>"
      ],
      "text/latex": [
       "\\begin{tabular}{r|ccc}\n",
       "\t& method & type & time\\\\\n",
       "\t\\hline\n",
       "\t& String & String & Float64\\\\\n",
       "\t\\hline\n",
       "\t1 & @filter & with missing - 1 cond. & 2.58527e9 \\\\\n",
       "\t2 & subset() & with missing - 1 cond. & 9.87876e7 \\\\\n",
       "\t3 & @filter & no missing - 1 cond. & 2.16561e9 \\\\\n",
       "\t4 & subset() & no missing - 1 cond. & 1.11186e8 \\\\\n",
       "\t5 & brackets & no missing - 1 cond. & 9.14419e7 \\\\\n",
       "\t6 & @filter & no missing - mult cond. & 2.21444e9 \\\\\n",
       "\t7 & subset() & no missing - mult cond. & 1.60164e8 \\\\\n",
       "\t8 & brackets & no missing - mult cond. & 1.11657e8 \\\\\n",
       "\\end{tabular}\n"
      ],
      "text/plain": [
       "\u001b[1m8×3 DataFrame\u001b[0m\n",
       "\u001b[1m Row \u001b[0m│\u001b[1m method   \u001b[0m\u001b[1m type                    \u001b[0m\u001b[1m time      \u001b[0m\n",
       "\u001b[1m     \u001b[0m│\u001b[90m String   \u001b[0m\u001b[90m String                  \u001b[0m\u001b[90m Float64   \u001b[0m\n",
       "─────┼──────────────────────────────────────────────\n",
       "   1 │ @filter   with missing - 1 cond.   2.58527e9\n",
       "   2 │ subset()  with missing - 1 cond.   9.87876e7\n",
       "   3 │ @filter   no missing - 1 cond.     2.16561e9\n",
       "   4 │ subset()  no missing - 1 cond.     1.11186e8\n",
       "   5 │ brackets  no missing - 1 cond.     9.14419e7\n",
       "   6 │ @filter   no missing - mult cond.  2.21444e9\n",
       "   7 │ subset()  no missing - mult cond.  1.60164e8\n",
       "   8 │ brackets  no missing - mult cond.  1.11657e8"
      ]
     },
     "execution_count": 10,
     "metadata": {},
     "output_type": "execute_result"
    }
   ],
   "source": [
    "b33 = @benchmark zhvi_nomiss[(zhvi_nomiss.City .== \"New York\") .&& (zhvi_nomiss.SizeRank .> 50) .&& (isodd.(zhvi_nomiss.RegionName)),:]\n",
    "push!(times,[\"brackets\",\"no missing - mult cond.\",mean(b33.times)])"
   ]
  },
  {
   "cell_type": "markdown",
   "metadata": {},
   "source": [
    "### Conclusion"
   ]
  },
  {
   "cell_type": "markdown",
   "metadata": {},
   "source": [
    "We can plot the average compuation time of each method for each condition, using the \"VegaLite.jl\" package."
   ]
  },
  {
   "cell_type": "code",
   "execution_count": 12,
   "metadata": {},
   "outputs": [
    {
     "data": {
      "application/vnd.vegalite.v4+json": {
       "config": {
        "axis": {
         "domainWidth": 1
        },
        "views": {
         "stroke": "transparent"
        }
       },
       "data": {
        "values": [
         {
          "method": "@filter",
          "time": 2585271850,
          "type": "with missing - 1 cond."
         },
         {
          "method": "subset()",
          "time": 98787617.64705883,
          "type": "with missing - 1 cond."
         },
         {
          "method": "@filter",
          "time": 2165613333.3333335,
          "type": "no missing - 1 cond."
         },
         {
          "method": "subset()",
          "time": 111185975.55555555,
          "type": "no missing - 1 cond."
         },
         {
          "method": "brackets",
          "time": 91441850.9090909,
          "type": "no missing - 1 cond."
         },
         {
          "method": "@filter",
          "time": 2214440933.3333335,
          "type": "no missing - mult cond."
         },
         {
          "method": "subset()",
          "time": 160163640.625,
          "type": "no missing - mult cond."
         },
         {
          "method": "brackets",
          "time": 111657420,
          "type": "no missing - mult cond."
         }
        ]
       },
       "encoding": {
        "color": {
         "field": "type",
         "scale": {
          "domain": [
           "with missing - 1 cond.",
           "no missing - 1 cond.",
           "no missing - mult cond."
          ],
          "range": [
           "#aec7e8",
           "#1f77b4",
           "#9467bd"
          ]
         },
         "type": "nominal"
        },
        "column": {
         "field": "method",
         "type": "nominal"
        },
        "x": {
         "axis": {
          "labels": false,
          "title": ""
         },
         "field": "type",
         "type": "nominal"
        },
        "y": {
         "axis": {
          "grid": true,
          "title": "Computational Time (μ-sec)"
         },
         "field": "time",
         "type": "quantitative"
        }
       },
       "mark": "bar",
       "spacing": 10
      },
      "image/png": "[encoded data removed]",
      "image/svg+xml": "<?xml version=\"1.0\" encoding=\"utf-8\"?>\n<!DOCTYPE svg PUBLIC \"-//W3C//DTD SVG 1.1//EN\" \"http://www.w3.org/Graphics/SVG/1.1/DTD/svg11.dtd\">\n<svg xmlns=\"http://www.w3.org/2000/svg\" xmlns:xlink=\"http://www.w3.org/1999/xlink\" version=\"1.1\" class=\"marks\" width=\"456\" height=\"269\" viewBox=\"0 0 456 269\"><rect width=\"456\" height=\"269\" fill=\"white\"/><g fill=\"none\" stroke-miterlimit=\"10\" transform=\"translate(97,57)\"><g class=\"mark-group role-frame root\" role=\"graphics-object\" aria-roledescription=\"group mark container\"><g transform=\"translate(0,0)\"><path class=\"background\" aria-hidden=\"true\" d=\"M0,0h0v0h0Z\"/><g><g class=\"mark-group role-column-title column-title\" role=\"graphics-object\" aria-roledescription=\"group mark container\"><g transform=\"translate(102,-31)\"><path class=\"background\" aria-hidden=\"true\" d=\"M0,0h0v0h0Z\"/><g><g class=\"mark-group role-title\"><g transform=\"translate(0,-21)\"><path class=\"background\" aria-hidden=\"true\" d=\"M0,0h0v0h0Z\" pointer-events=\"none\"/><g><g class=\"mark-text role-title-text\" role=\"graphics-symbol\" aria-roledescription=\"title\" aria-label=\"Title text 'method'\" pointer-events=\"none\"><text text-anchor=\"middle\" transform=\"translate(0,9)\" font-family=\"sans-serif\" font-size=\"11px\" font-weight=\"bold\" fill=\"#000\" opacity=\"1\">method</text></g></g><path class=\"foreground\" aria-hidden=\"true\" d=\"\" pointer-events=\"none\" display=\"none\"/></g></g></g><path class=\"foreground\" aria-hidden=\"true\" d=\"\" display=\"none\"/></g></g><g class=\"mark-group role-row-header row_header\" role=\"graphics-object\" aria-roledescription=\"group mark container\"><g transform=\"translate(-1,0)\"><path class=\"background\" aria-hidden=\"true\" d=\"M0,0h0v200h0Z\"/><g><g class=\"mark-group role-axis\" role=\"graphics-symbol\" aria-roledescription=\"axis\" aria-label=\"Y-axis titled 'Computational Time (μ-sec)' for a linear scale with values from 0 to 2,600,000,000\"><g transform=\"translate(0.5,0.5)\"><path class=\"background\" aria-hidden=\"true\" d=\"M0,0h0v0h0Z\" pointer-events=\"none\"/><g><g class=\"mark-rule role-axis-tick\" pointer-events=\"none\"><line transform=\"translate(0,200)\" x2=\"-5\" y2=\"0\" stroke=\"#888\" stroke-width=\"1\" opacity=\"1\"/><line transform=\"translate(0,162)\" x2=\"-5\" y2=\"0\" stroke=\"#888\" stroke-width=\"1\" opacity=\"1\"/><line transform=\"translate(0,123)\" x2=\"-5\" y2=\"0\" stroke=\"#888\" stroke-width=\"1\" opacity=\"1\"/><line transform=\"translate(0,85)\" x2=\"-5\" y2=\"0\" stroke=\"#888\" stroke-width=\"1\" opacity=\"1\"/><line transform=\"translate(0,46)\" x2=\"-5\" y2=\"0\" stroke=\"#888\" stroke-width=\"1\" opacity=\"1\"/><line transform=\"translate(0,8)\" x2=\"-5\" y2=\"0\" stroke=\"#888\" stroke-width=\"1\" opacity=\"1\"/></g><g class=\"mark-text role-axis-label\" pointer-events=\"none\"><text text-anchor=\"end\" transform=\"translate(-7,203)\" font-family=\"sans-serif\" font-size=\"10px\" fill=\"#000\" opacity=\"1\">0</text><text text-anchor=\"end\" transform=\"translate(-7,164.53846153846155)\" font-family=\"sans-serif\" font-size=\"10px\" fill=\"#000\" opacity=\"1\">500,000,000</text><text text-anchor=\"end\" transform=\"translate(-7,126.07692307692308)\" font-family=\"sans-serif\" font-size=\"10px\" fill=\"#000\" opacity=\"1\">1,000,000,000</text><text text-anchor=\"end\" transform=\"translate(-7,87.61538461538463)\" font-family=\"sans-serif\" font-size=\"10px\" fill=\"#000\" opacity=\"1\">1,500,000,000</text><text text-anchor=\"end\" transform=\"translate(-7,49.153846153846146)\" font-family=\"sans-serif\" font-size=\"10px\" fill=\"#000\" opacity=\"1\">2,000,000,000</text><text text-anchor=\"end\" transform=\"translate(-7,10.692307692307686)\" font-family=\"sans-serif\" font-size=\"10px\" fill=\"#000\" opacity=\"1\">2,500,000,000</text></g><g class=\"mark-rule role-axis-domain\" pointer-events=\"none\"><line transform=\"translate(0,200)\" x2=\"0\" y2=\"-200\" stroke=\"#888\" stroke-width=\"1\" opacity=\"1\"/></g><g class=\"mark-text role-axis-title\" pointer-events=\"none\"><text text-anchor=\"middle\" transform=\"translate(-80,100) rotate(-90) translate(0,-2)\" font-family=\"sans-serif\" font-size=\"11px\" font-weight=\"bold\" fill=\"#000\" opacity=\"1\">Computational Time (μ-sec)</text></g></g><path class=\"foreground\" aria-hidden=\"true\" d=\"\" pointer-events=\"none\" display=\"none\"/></g></g></g><path class=\"foreground\" aria-hidden=\"true\" d=\"\" display=\"none\"/></g></g><g class=\"mark-group role-column-header column_header\" role=\"graphics-object\" aria-roledescription=\"group mark container\"><g transform=\"translate(0,-1)\"><path class=\"background\" aria-hidden=\"true\" d=\"M0,0h60v0h-60Z\"/><g><g class=\"mark-group role-title\"><g transform=\"translate(30,-20)\"><path class=\"background\" aria-hidden=\"true\" d=\"M0,0h0v0h0Z\" pointer-events=\"none\"/><g><g class=\"mark-text role-title-text\" role=\"graphics-symbol\" aria-roledescription=\"title\" aria-label=\"Title text '@filter'\" pointer-events=\"none\"><text text-anchor=\"middle\" transform=\"translate(0,8)\" font-family=\"sans-serif\" font-size=\"10px\" fill=\"#000\" opacity=\"1\">@filter</text></g></g><path class=\"foreground\" aria-hidden=\"true\" d=\"\" pointer-events=\"none\" display=\"none\"/></g></g></g><path class=\"foreground\" aria-hidden=\"true\" d=\"\" display=\"none\"/></g><g transform=\"translate(72,-1)\"><path class=\"background\" aria-hidden=\"true\" d=\"M0,0h60v0h-60Z\"/><g><g class=\"mark-group role-title\"><g transform=\"translate(30,-20)\"><path class=\"background\" aria-hidden=\"true\" d=\"M0,0h0v0h0Z\" pointer-events=\"none\"/><g><g class=\"mark-text role-title-text\" role=\"graphics-symbol\" aria-roledescription=\"title\" aria-label=\"Title text 'brackets'\" pointer-events=\"none\"><text text-anchor=\"middle\" transform=\"translate(0,8)\" font-family=\"sans-serif\" font-size=\"10px\" fill=\"#000\" opacity=\"1\">brackets</text></g></g><path class=\"foreground\" aria-hidden=\"true\" d=\"\" pointer-events=\"none\" display=\"none\"/></g></g></g><path class=\"foreground\" aria-hidden=\"true\" d=\"\" display=\"none\"/></g><g transform=\"translate(144,-1)\"><path class=\"background\" aria-hidden=\"true\" d=\"M0,0h60v0h-60Z\"/><g><g class=\"mark-group role-title\"><g transform=\"translate(30,-20)\"><path class=\"background\" aria-hidden=\"true\" d=\"M0,0h0v0h0Z\" pointer-events=\"none\"/><g><g class=\"mark-text role-title-text\" role=\"graphics-symbol\" aria-roledescription=\"title\" aria-label=\"Title text 'subset()'\" pointer-events=\"none\"><text text-anchor=\"middle\" transform=\"translate(0,8)\" font-family=\"sans-serif\" font-size=\"10px\" fill=\"#000\" opacity=\"1\">subset()</text></g></g><path class=\"foreground\" aria-hidden=\"true\" d=\"\" pointer-events=\"none\" display=\"none\"/></g></g></g><path class=\"foreground\" aria-hidden=\"true\" d=\"\" display=\"none\"/></g></g><g class=\"mark-group role-column-footer column_footer\" role=\"graphics-object\" aria-roledescription=\"group mark container\"><g transform=\"translate(0,201)\"><path class=\"background\" aria-hidden=\"true\" d=\"M0,0h60v0h-60Z\"/><g><g class=\"mark-group role-axis\" role=\"graphics-symbol\" aria-roledescription=\"axis\" aria-label=\"X-axis for a discrete scale with 3 values: no missing - 1 cond., no missing - mult cond., with missing - 1 cond.\"><g transform=\"translate(0.5,0.5)\"><path class=\"background\" aria-hidden=\"true\" d=\"M0,0h0v0h0Z\" pointer-events=\"none\"/><g><g class=\"mark-rule role-axis-tick\" pointer-events=\"none\"><line transform=\"translate(10,0)\" x2=\"0\" y2=\"5\" stroke=\"#888\" stroke-width=\"1\" opacity=\"1\"/><line transform=\"translate(30,0)\" x2=\"0\" y2=\"5\" stroke=\"#888\" stroke-width=\"1\" opacity=\"1\"/><line transform=\"translate(50,0)\" x2=\"0\" y2=\"5\" stroke=\"#888\" stroke-width=\"1\" opacity=\"1\"/></g><g class=\"mark-rule role-axis-domain\" pointer-events=\"none\"><line transform=\"translate(0,0)\" x2=\"60\" y2=\"0\" stroke=\"#888\" stroke-width=\"1\" opacity=\"1\"/></g></g><path class=\"foreground\" aria-hidden=\"true\" d=\"\" pointer-events=\"none\" display=\"none\"/></g></g></g><path class=\"foreground\" aria-hidden=\"true\" d=\"\" display=\"none\"/></g><g transform=\"translate(72,201)\"><path class=\"background\" aria-hidden=\"true\" d=\"M0,0h60v0h-60Z\"/><g><g class=\"mark-group role-axis\" role=\"graphics-symbol\" aria-roledescription=\"axis\" aria-label=\"X-axis for a discrete scale with 3 values: no missing - 1 cond., no missing - mult cond., with missing - 1 cond.\"><g transform=\"translate(0.5,0.5)\"><path class=\"background\" aria-hidden=\"true\" d=\"M0,0h0v0h0Z\" pointer-events=\"none\"/><g><g class=\"mark-rule role-axis-tick\" pointer-events=\"none\"><line transform=\"translate(10,0)\" x2=\"0\" y2=\"5\" stroke=\"#888\" stroke-width=\"1\" opacity=\"1\"/><line transform=\"translate(30,0)\" x2=\"0\" y2=\"5\" stroke=\"#888\" stroke-width=\"1\" opacity=\"1\"/><line transform=\"translate(50,0)\" x2=\"0\" y2=\"5\" stroke=\"#888\" stroke-width=\"1\" opacity=\"1\"/></g><g class=\"mark-rule role-axis-domain\" pointer-events=\"none\"><line transform=\"translate(0,0)\" x2=\"60\" y2=\"0\" stroke=\"#888\" stroke-width=\"1\" opacity=\"1\"/></g></g><path class=\"foreground\" aria-hidden=\"true\" d=\"\" pointer-events=\"none\" display=\"none\"/></g></g></g><path class=\"foreground\" aria-hidden=\"true\" d=\"\" display=\"none\"/></g><g transform=\"translate(144,201)\"><path class=\"background\" aria-hidden=\"true\" d=\"M0,0h60v0h-60Z\"/><g><g class=\"mark-group role-axis\" role=\"graphics-symbol\" aria-roledescription=\"axis\" aria-label=\"X-axis for a discrete scale with 3 values: no missing - 1 cond., no missing - mult cond., with missing - 1 cond.\"><g transform=\"translate(0.5,0.5)\"><path class=\"background\" aria-hidden=\"true\" d=\"M0,0h0v0h0Z\" pointer-events=\"none\"/><g><g class=\"mark-rule role-axis-tick\" pointer-events=\"none\"><line transform=\"translate(10,0)\" x2=\"0\" y2=\"5\" stroke=\"#888\" stroke-width=\"1\" opacity=\"1\"/><line transform=\"translate(30,0)\" x2=\"0\" y2=\"5\" stroke=\"#888\" stroke-width=\"1\" opacity=\"1\"/><line transform=\"translate(50,0)\" x2=\"0\" y2=\"5\" stroke=\"#888\" stroke-width=\"1\" opacity=\"1\"/></g><g class=\"mark-rule role-axis-domain\" pointer-events=\"none\"><line transform=\"translate(0,0)\" x2=\"60\" y2=\"0\" stroke=\"#888\" stroke-width=\"1\" opacity=\"1\"/></g></g><path class=\"foreground\" aria-hidden=\"true\" d=\"\" pointer-events=\"none\" display=\"none\"/></g></g></g><path class=\"foreground\" aria-hidden=\"true\" d=\"\" display=\"none\"/></g></g><g class=\"mark-group role-scope cell\" role=\"graphics-object\" aria-roledescription=\"group mark container\"><g transform=\"translate(0,0)\"><path class=\"background\" aria-hidden=\"true\" d=\"M0.5,0.5h60v200h-60Z\" stroke=\"#ddd\"/><g><g class=\"mark-group role-axis\" aria-hidden=\"true\"><g transform=\"translate(0.5,0.5)\"><path class=\"background\" aria-hidden=\"true\" d=\"M0,0h0v0h0Z\" pointer-events=\"none\"/><g><g class=\"mark-rule role-axis-grid\" pointer-events=\"none\"><line transform=\"translate(0,200)\" x2=\"60\" y2=\"0\" stroke=\"#ddd\" stroke-width=\"1\" opacity=\"1\"/><line transform=\"translate(0,162)\" x2=\"60\" y2=\"0\" stroke=\"#ddd\" stroke-width=\"1\" opacity=\"1\"/><line transform=\"translate(0,123)\" x2=\"60\" y2=\"0\" stroke=\"#ddd\" stroke-width=\"1\" opacity=\"1\"/><line transform=\"translate(0,85)\" x2=\"60\" y2=\"0\" stroke=\"#ddd\" stroke-width=\"1\" opacity=\"1\"/><line transform=\"translate(0,46)\" x2=\"60\" y2=\"0\" stroke=\"#ddd\" stroke-width=\"1\" opacity=\"1\"/><line transform=\"translate(0,8)\" x2=\"60\" y2=\"0\" stroke=\"#ddd\" stroke-width=\"1\" opacity=\"1\"/></g></g><path class=\"foreground\" aria-hidden=\"true\" d=\"\" pointer-events=\"none\" display=\"none\"/></g></g><g class=\"mark-rect role-mark child_marks\" role=\"graphics-object\" aria-roledescription=\"rect mark container\"><path aria-label=\"type: with missing - 1 cond.; time: 2585271850\" role=\"graphics-symbol\" aria-roledescription=\"bar\" d=\"M41,1.1329346153846176h18v198.8670653846154h-18Z\" fill=\"#aec7e8\"/><path aria-label=\"type: no missing - 1 cond.; time: 2165613333.33\" role=\"graphics-symbol\" aria-roledescription=\"bar\" d=\"M1,33.41435897435896h18v166.58564102564105h-18Z\" fill=\"#1f77b4\"/><path aria-label=\"type: no missing - mult cond.; time: 2214440933.33\" role=\"graphics-symbol\" aria-roledescription=\"bar\" d=\"M21,29.65838974358974h18v170.34161025641026h-18Z\" fill=\"#9467bd\"/></g></g><path class=\"foreground\" aria-hidden=\"true\" d=\"\" display=\"none\"/></g><g transform=\"translate(72,0)\"><path class=\"background\" aria-hidden=\"true\" d=\"M0.5,0.5h60v200h-60Z\" stroke=\"#ddd\"/><g><g class=\"mark-group role-axis\" aria-hidden=\"true\"><g transform=\"translate(0.5,0.5)\"><path class=\"background\" aria-hidden=\"true\" d=\"M0,0h0v0h0Z\" pointer-events=\"none\"/><g><g class=\"mark-rule role-axis-grid\" pointer-events=\"none\"><line transform=\"translate(0,200)\" x2=\"60\" y2=\"0\" stroke=\"#ddd\" stroke-width=\"1\" opacity=\"1\"/><line transform=\"translate(0,162)\" x2=\"60\" y2=\"0\" stroke=\"#ddd\" stroke-width=\"1\" opacity=\"1\"/><line transform=\"translate(0,123)\" x2=\"60\" y2=\"0\" stroke=\"#ddd\" stroke-width=\"1\" opacity=\"1\"/><line transform=\"translate(0,85)\" x2=\"60\" y2=\"0\" stroke=\"#ddd\" stroke-width=\"1\" opacity=\"1\"/><line transform=\"translate(0,46)\" x2=\"60\" y2=\"0\" stroke=\"#ddd\" stroke-width=\"1\" opacity=\"1\"/><line transform=\"translate(0,8)\" x2=\"60\" y2=\"0\" stroke=\"#ddd\" stroke-width=\"1\" opacity=\"1\"/></g></g><path class=\"foreground\" aria-hidden=\"true\" d=\"\" pointer-events=\"none\" display=\"none\"/></g></g><g class=\"mark-rect role-mark child_marks\" role=\"graphics-object\" aria-roledescription=\"rect mark container\"><path aria-label=\"type: no missing - 1 cond.; time: 91441850.9091\" role=\"graphics-symbol\" aria-roledescription=\"bar\" d=\"M1,192.96601146853146h18v7.0339885314685375h-18Z\" fill=\"#1f77b4\"/><path aria-label=\"type: no missing - mult cond.; time: 111657420\" role=\"graphics-symbol\" aria-roledescription=\"bar\" d=\"M21,191.4109676923077h18v8.589032307692293h-18Z\" fill=\"#9467bd\"/></g></g><path class=\"foreground\" aria-hidden=\"true\" d=\"\" display=\"none\"/></g><g transform=\"translate(144,0)\"><path class=\"background\" aria-hidden=\"true\" d=\"M0.5,0.5h60v200h-60Z\" stroke=\"#ddd\"/><g><g class=\"mark-group role-axis\" aria-hidden=\"true\"><g transform=\"translate(0.5,0.5)\"><path class=\"background\" aria-hidden=\"true\" d=\"M0,0h0v0h0Z\" pointer-events=\"none\"/><g><g class=\"mark-rule role-axis-grid\" pointer-events=\"none\"><line transform=\"translate(0,200)\" x2=\"60\" y2=\"0\" stroke=\"#ddd\" stroke-width=\"1\" opacity=\"1\"/><line transform=\"translate(0,162)\" x2=\"60\" y2=\"0\" stroke=\"#ddd\" stroke-width=\"1\" opacity=\"1\"/><line transform=\"translate(0,123)\" x2=\"60\" y2=\"0\" stroke=\"#ddd\" stroke-width=\"1\" opacity=\"1\"/><line transform=\"translate(0,85)\" x2=\"60\" y2=\"0\" stroke=\"#ddd\" stroke-width=\"1\" opacity=\"1\"/><line transform=\"translate(0,46)\" x2=\"60\" y2=\"0\" stroke=\"#ddd\" stroke-width=\"1\" opacity=\"1\"/><line transform=\"translate(0,8)\" x2=\"60\" y2=\"0\" stroke=\"#ddd\" stroke-width=\"1\" opacity=\"1\"/></g></g><path class=\"foreground\" aria-hidden=\"true\" d=\"\" pointer-events=\"none\" display=\"none\"/></g></g><g class=\"mark-rect role-mark child_marks\" role=\"graphics-object\" aria-roledescription=\"rect mark container\"><path aria-label=\"type: with missing - 1 cond.; time: 98787617.6471\" role=\"graphics-symbol\" aria-roledescription=\"bar\" d=\"M41,192.40095248868778h18v7.599047511312222h-18Z\" fill=\"#aec7e8\"/><path aria-label=\"type: no missing - 1 cond.; time: 111185975.556\" role=\"graphics-symbol\" aria-roledescription=\"bar\" d=\"M1,191.44723264957264h18v8.55276735042736h-18Z\" fill=\"#1f77b4\"/><path aria-label=\"type: no missing - mult cond.; time: 160163640.625\" role=\"graphics-symbol\" aria-roledescription=\"bar\" d=\"M21,187.67971995192306h18v12.320280048076938h-18Z\" fill=\"#9467bd\"/></g></g><path class=\"foreground\" aria-hidden=\"true\" d=\"\" display=\"none\"/></g></g><g class=\"mark-group role-legend\" role=\"graphics-symbol\" aria-roledescription=\"legend\" aria-label=\"Symbol legend titled 'type' for fill color with 3 values: with missing - 1 cond., no missing - 1 cond., no missing - mult cond.\"><g transform=\"translate(223,0)\"><path class=\"background\" aria-hidden=\"true\" d=\"M0,0h131v53h-131Z\" pointer-events=\"none\"/><g><g class=\"mark-group role-legend-entry\"><g transform=\"translate(0,16)\"><path class=\"background\" aria-hidden=\"true\" d=\"M0,0h0v0h0Z\" pointer-events=\"none\"/><g><g class=\"mark-group role-scope\" role=\"graphics-object\" aria-roledescription=\"group mark container\"><g transform=\"translate(0,0)\"><path class=\"background\" aria-hidden=\"true\" d=\"M0,0h131v11h-131Z\" pointer-events=\"none\" opacity=\"1\"/><g><g class=\"mark-symbol role-legend-symbol\" pointer-events=\"none\"><path transform=\"translate(6,6)\" d=\"M-5,-5h10v10h-10Z\" fill=\"#aec7e8\" stroke-width=\"1.5\" opacity=\"1\"/></g><g class=\"mark-text role-legend-label\" pointer-events=\"none\"><text text-anchor=\"start\" transform=\"translate(16,9)\" font-family=\"sans-serif\" font-size=\"10px\" fill=\"#000\" opacity=\"1\">with missing - 1 cond.</text></g></g><path class=\"foreground\" aria-hidden=\"true\" d=\"\" pointer-events=\"none\" display=\"none\"/></g><g transform=\"translate(0,13)\"><path class=\"background\" aria-hidden=\"true\" d=\"M0,0h131v11h-131Z\" pointer-events=\"none\" opacity=\"1\"/><g><g class=\"mark-symbol role-legend-symbol\" pointer-events=\"none\"><path transform=\"translate(6,6)\" d=\"M-5,-5h10v10h-10Z\" fill=\"#1f77b4\" stroke-width=\"1.5\" opacity=\"1\"/></g><g class=\"mark-text role-legend-label\" pointer-events=\"none\"><text text-anchor=\"start\" transform=\"translate(16,9)\" font-family=\"sans-serif\" font-size=\"10px\" fill=\"#000\" opacity=\"1\">no missing - 1 cond.</text></g></g><path class=\"foreground\" aria-hidden=\"true\" d=\"\" pointer-events=\"none\" display=\"none\"/></g><g transform=\"translate(0,26)\"><path class=\"background\" aria-hidden=\"true\" d=\"M0,0h131v11h-131Z\" pointer-events=\"none\" opacity=\"1\"/><g><g class=\"mark-symbol role-legend-symbol\" pointer-events=\"none\"><path transform=\"translate(6,6)\" d=\"M-5,-5h10v10h-10Z\" fill=\"#9467bd\" stroke-width=\"1.5\" opacity=\"1\"/></g><g class=\"mark-text role-legend-label\" pointer-events=\"none\"><text text-anchor=\"start\" transform=\"translate(16,9)\" font-family=\"sans-serif\" font-size=\"10px\" fill=\"#000\" opacity=\"1\">no missing - mult cond.</text></g></g><path class=\"foreground\" aria-hidden=\"true\" d=\"\" pointer-events=\"none\" display=\"none\"/></g></g></g><path class=\"foreground\" aria-hidden=\"true\" d=\"\" pointer-events=\"none\" display=\"none\"/></g></g><g class=\"mark-text role-legend-title\" pointer-events=\"none\"><text text-anchor=\"start\" transform=\"translate(0,9)\" font-family=\"sans-serif\" font-size=\"11px\" font-weight=\"bold\" fill=\"#000\" opacity=\"1\">type</text></g></g><path class=\"foreground\" aria-hidden=\"true\" d=\"\" pointer-events=\"none\" display=\"none\"/></g></g></g><path class=\"foreground\" aria-hidden=\"true\" d=\"\" display=\"none\"/></g></g></g></svg>\n",
      "text/plain": [
       "@vlplot(\n",
       "    spacing=10,\n",
       "    config={\n",
       "        views={\n",
       "            stroke=\"transparent\"\n",
       "        },\n",
       "        axis={\n",
       "            domainWidth=1\n",
       "        }\n",
       "    },\n",
       "    mark=\"bar\",\n",
       "    encoding={\n",
       "        column={\n",
       "            field=\"method\"\n",
       "        },\n",
       "        x={\n",
       "            axis={\n",
       "                title=\"\",\n",
       "                labels=false\n",
       "            },\n",
       "            field=\"type\"\n",
       "        },\n",
       "        y={\n",
       "            axis={\n",
       "                title=\"Computational Time (μ-sec)\",\n",
       "                grid=true\n",
       "            },\n",
       "            field=\"time\"\n",
       "        },\n",
       "        color={\n",
       "            scale={\n",
       "                domain=[\n",
       "                    \"with missing - 1 cond.\",\n",
       "                    \"no missing - 1 cond.\",\n",
       "                    \"no missing - mult cond.\"\n",
       "                ],\n",
       "                range=[\n",
       "                    \"#aec7e8\",\n",
       "                    \"#1f77b4\",\n",
       "                    \"#9467bd\"\n",
       "                ]\n",
       "            },\n",
       "            field=\"type\"\n",
       "        }\n",
       "    },\n",
       "    data={\n",
       "        values=...\n",
       "    }\n",
       ")"
      ]
     },
     "execution_count": 12,
     "metadata": {},
     "output_type": "execute_result"
    }
   ],
   "source": [
    "using VegaLite\n",
    "comp = times |>\n",
    "@vlplot(\n",
    "    :bar,\n",
    "    column = :method,\n",
    "    x = {:type, axis={title=\"\", labels =false}},\n",
    "    y = {:time, axis={title=\"Computational Time (μ-sec)\", grid = true}},\n",
    "    color={\n",
    "        :type,\n",
    "        scale={\n",
    "            domain=[\"with missing - 1 cond.\",\"no missing - 1 cond.\",\"no missing - mult cond.\"],\n",
    "            range=[\"#aec7e8\",\"#1f77b4\",\"#9467bd\"]\n",
    "        }\n",
    "    },\n",
    "    spacing=10,\n",
    "    config={\n",
    "        views={stroke=:transparent},\n",
    "        axis={domainWidth=1}\n",
    "    }\n",
    ")\n",
    "comp"
   ]
  },
  {
   "cell_type": "markdown",
   "metadata": {},
   "source": [
    "As you can see, the @filter function is very strange. First of all, it is dramatically slower than both DataFrame methods. This is honestly unfortunate because I really prefer the syntax of the Query method. The strange thing to observe is that the `@filter` macro became quicker with the more conditions it was told to filter, literally decreasing it's computation time. I have no idea why this would be true."
   ]
  },
  {
   "cell_type": "markdown",
   "metadata": {},
   "source": [
    "## More Data Cleaning - DataFrames vs. Query\n",
    "\n",
    "I feel like the methods used in `Query.js` could be slower than using the built in functions from the `DataFrames.jl` package because it copies data multiple times, where DataFrames writes on an existing object. However, to test this, let us test other functions that are similar between the two.\n",
    "\n",
    "### Renaming Variables in a DataFrame\n",
    "\n",
    "We will start by trying to renaming variables in the data frame by using two different methods: the `@Rename` macro from the `Query` package, and the `rename()` package from the `DataFrames` package.\n"
   ]
  },
  {
   "cell_type": "code",
   "execution_count": 15,
   "metadata": {},
   "outputs": [
    {
     "name": "stdout",
     "output_type": "stream",
     "text": [
      "  4.018 s (14904106 allocations: 2.21 GiB)"
     ]
    },
    {
     "data": {
      "text/html": [
       "<div class=\"data-frame\"><p>7,451,984 rows × 11 columns (omitted printing of 3 columns)</p><table class=\"data-frame\"><thead><tr><th></th><th>RegionID</th><th>SizeRank</th><th>zip</th><th>RegionType</th><th>StateName</th><th>State</th><th>City</th><th>Metro</th></tr><tr><th></th><th title=\"Int64\">Int64</th><th title=\"Int64\">Int64</th><th title=\"Int64\">Int64</th><th title=\"String3\">String3</th><th title=\"String3\">String3</th><th title=\"String3\">String3</th><th title=\"Union{Missing, String31}\">String31?</th><th title=\"Union{Missing, String}\">String?</th></tr></thead><tbody><tr><th>1</th><td>91940</td><td>0</td><td>77449</td><td>zip</td><td>TX</td><td>TX</td><td><em>missing</em></td><td>Houston-The Woodlands-Sugar Land, TX</td></tr><tr><th>2</th><td>91982</td><td>1</td><td>77494</td><td>zip</td><td>TX</td><td>TX</td><td><em>missing</em></td><td>Houston-The Woodlands-Sugar Land, TX</td></tr><tr><th>3</th><td>93144</td><td>2</td><td>79936</td><td>zip</td><td>TX</td><td>TX</td><td>El Paso</td><td>El Paso, TX</td></tr><tr><th>4</th><td>62080</td><td>3</td><td>11368</td><td>zip</td><td>NY</td><td>NY</td><td>New York</td><td>New York-Newark-Jersey City, NY-NJ-PA</td></tr><tr><th>5</th><td>62093</td><td>4</td><td>11385</td><td>zip</td><td>NY</td><td>NY</td><td>New York</td><td>New York-Newark-Jersey City, NY-NJ-PA</td></tr><tr><th>6</th><td>95992</td><td>5</td><td>90011</td><td>zip</td><td>CA</td><td>CA</td><td>Los Angeles</td><td>Los Angeles-Long Beach-Anaheim, CA</td></tr><tr><th>7</th><td>84630</td><td>6</td><td>60629</td><td>zip</td><td>IL</td><td>IL</td><td>Chicago</td><td>Chicago-Naperville-Elgin, IL-IN-WI</td></tr><tr><th>8</th><td>91733</td><td>7</td><td>77084</td><td>zip</td><td>TX</td><td>TX</td><td>Houston</td><td>Houston-The Woodlands-Sugar Land, TX</td></tr><tr><th>9</th><td>96361</td><td>8</td><td>91331</td><td>zip</td><td>CA</td><td>CA</td><td>Los Angeles</td><td>Los Angeles-Long Beach-Anaheim, CA</td></tr><tr><th>10</th><td>96193</td><td>9</td><td>90650</td><td>zip</td><td>CA</td><td>CA</td><td>Norwalk</td><td>Los Angeles-Long Beach-Anaheim, CA</td></tr><tr><th>11</th><td>61148</td><td>10</td><td>8701</td><td>zip</td><td>NJ</td><td>NJ</td><td>Lakewood</td><td>New York-Newark-Jersey City, NY-NJ-PA</td></tr><tr><th>12</th><td>62046</td><td>11</td><td>11236</td><td>zip</td><td>NY</td><td>NY</td><td>New York</td><td>New York-Newark-Jersey City, NY-NJ-PA</td></tr><tr><th>13</th><td>96083</td><td>12</td><td>90201</td><td>zip</td><td>CA</td><td>CA</td><td>Bell</td><td>Los Angeles-Long Beach-Anaheim, CA</td></tr><tr><th>14</th><td>96816</td><td>13</td><td>92335</td><td>zip</td><td>CA</td><td>CA</td><td>Fontana</td><td>Riverside-San Bernardino-Ontario, CA</td></tr><tr><th>15</th><td>62019</td><td>14</td><td>11208</td><td>zip</td><td>NY</td><td>NY</td><td>New York</td><td>New York-Newark-Jersey City, NY-NJ-PA</td></tr><tr><th>16</th><td>61807</td><td>15</td><td>10467</td><td>zip</td><td>NY</td><td>NY</td><td>New York</td><td>New York-Newark-Jersey City, NY-NJ-PA</td></tr><tr><th>17</th><td>62037</td><td>16</td><td>11226</td><td>zip</td><td>NY</td><td>NY</td><td>New York</td><td>New York-Newark-Jersey City, NY-NJ-PA</td></tr><tr><th>18</th><td>92593</td><td>17</td><td>78660</td><td>zip</td><td>TX</td><td>TX</td><td>Pflugerville</td><td>Austin-Round Rock-Georgetown, TX</td></tr><tr><th>19</th><td>96882</td><td>18</td><td>92503</td><td>zip</td><td>CA</td><td>CA</td><td>Riverside</td><td>Riverside-San Bernardino-Ontario, CA</td></tr><tr><th>20</th><td>96107</td><td>19</td><td>90250</td><td>zip</td><td>CA</td><td>CA</td><td>Hawthorne</td><td>Los Angeles-Long Beach-Anaheim, CA</td></tr><tr><th>21</th><td>96025</td><td>20</td><td>90044</td><td>zip</td><td>CA</td><td>CA</td><td>Los Angeles</td><td>Los Angeles-Long Beach-Anaheim, CA</td></tr><tr><th>22</th><td>96239</td><td>21</td><td>90805</td><td>zip</td><td>CA</td><td>CA</td><td>Long Beach</td><td>Los Angeles-Long Beach-Anaheim, CA</td></tr><tr><th>23</th><td>96125</td><td>22</td><td>90280</td><td>zip</td><td>CA</td><td>CA</td><td>South Gate</td><td>Los Angeles-Long Beach-Anaheim, CA</td></tr><tr><th>24</th><td>97223</td><td>23</td><td>93307</td><td>zip</td><td>CA</td><td>CA</td><td>Bakersfield</td><td>Bakersfield, CA</td></tr><tr><th>25</th><td>96368</td><td>24</td><td>91342</td><td>zip</td><td>CA</td><td>CA</td><td>Los Angeles</td><td>Los Angeles-Long Beach-Anaheim, CA</td></tr><tr><th>26</th><td>96990</td><td>25</td><td>92683</td><td>zip</td><td>CA</td><td>CA</td><td>Westminster</td><td>Los Angeles-Long Beach-Anaheim, CA</td></tr><tr><th>27</th><td>96817</td><td>26</td><td>92336</td><td>zip</td><td>CA</td><td>CA</td><td>Fontana</td><td>Riverside-San Bernardino-Ontario, CA</td></tr><tr><th>28</th><td>62085</td><td>27</td><td>11373</td><td>zip</td><td>NY</td><td>NY</td><td>New York</td><td>New York-Newark-Jersey City, NY-NJ-PA</td></tr><tr><th>29</th><td>84620</td><td>28</td><td>60618</td><td>zip</td><td>IL</td><td>IL</td><td>Chicago</td><td>Chicago-Naperville-Elgin, IL-IN-WI</td></tr><tr><th>30</th><td>97771</td><td>29</td><td>94565</td><td>zip</td><td>CA</td><td>CA</td><td>Pittsburg</td><td>San Francisco-Oakland-Berkeley, CA</td></tr><tr><th>&vellip;</th><td>&vellip;</td><td>&vellip;</td><td>&vellip;</td><td>&vellip;</td><td>&vellip;</td><td>&vellip;</td><td>&vellip;</td><td>&vellip;</td></tr></tbody></table></div>"
      ],
      "text/latex": [
       "\\begin{tabular}{r|ccccccccc}\n",
       "\t& RegionID & SizeRank & zip & RegionType & StateName & State & City & Metro & \\\\\n",
       "\t\\hline\n",
       "\t& Int64 & Int64 & Int64 & String3 & String3 & String3 & String31? & String? & \\\\\n",
       "\t\\hline\n",
       "\t1 & 91940 & 0 & 77449 & zip & TX & TX & \\emph{missing} & Houston-The Woodlands-Sugar Land, TX & $\\dots$ \\\\\n",
       "\t2 & 91982 & 1 & 77494 & zip & TX & TX & \\emph{missing} & Houston-The Woodlands-Sugar Land, TX & $\\dots$ \\\\\n",
       "\t3 & 93144 & 2 & 79936 & zip & TX & TX & El Paso & El Paso, TX & $\\dots$ \\\\\n",
       "\t4 & 62080 & 3 & 11368 & zip & NY & NY & New York & New York-Newark-Jersey City, NY-NJ-PA & $\\dots$ \\\\\n",
       "\t5 & 62093 & 4 & 11385 & zip & NY & NY & New York & New York-Newark-Jersey City, NY-NJ-PA & $\\dots$ \\\\\n",
       "\t6 & 95992 & 5 & 90011 & zip & CA & CA & Los Angeles & Los Angeles-Long Beach-Anaheim, CA & $\\dots$ \\\\\n",
       "\t7 & 84630 & 6 & 60629 & zip & IL & IL & Chicago & Chicago-Naperville-Elgin, IL-IN-WI & $\\dots$ \\\\\n",
       "\t8 & 91733 & 7 & 77084 & zip & TX & TX & Houston & Houston-The Woodlands-Sugar Land, TX & $\\dots$ \\\\\n",
       "\t9 & 96361 & 8 & 91331 & zip & CA & CA & Los Angeles & Los Angeles-Long Beach-Anaheim, CA & $\\dots$ \\\\\n",
       "\t10 & 96193 & 9 & 90650 & zip & CA & CA & Norwalk & Los Angeles-Long Beach-Anaheim, CA & $\\dots$ \\\\\n",
       "\t11 & 61148 & 10 & 8701 & zip & NJ & NJ & Lakewood & New York-Newark-Jersey City, NY-NJ-PA & $\\dots$ \\\\\n",
       "\t12 & 62046 & 11 & 11236 & zip & NY & NY & New York & New York-Newark-Jersey City, NY-NJ-PA & $\\dots$ \\\\\n",
       "\t13 & 96083 & 12 & 90201 & zip & CA & CA & Bell & Los Angeles-Long Beach-Anaheim, CA & $\\dots$ \\\\\n",
       "\t14 & 96816 & 13 & 92335 & zip & CA & CA & Fontana & Riverside-San Bernardino-Ontario, CA & $\\dots$ \\\\\n",
       "\t15 & 62019 & 14 & 11208 & zip & NY & NY & New York & New York-Newark-Jersey City, NY-NJ-PA & $\\dots$ \\\\\n",
       "\t16 & 61807 & 15 & 10467 & zip & NY & NY & New York & New York-Newark-Jersey City, NY-NJ-PA & $\\dots$ \\\\\n",
       "\t17 & 62037 & 16 & 11226 & zip & NY & NY & New York & New York-Newark-Jersey City, NY-NJ-PA & $\\dots$ \\\\\n",
       "\t18 & 92593 & 17 & 78660 & zip & TX & TX & Pflugerville & Austin-Round Rock-Georgetown, TX & $\\dots$ \\\\\n",
       "\t19 & 96882 & 18 & 92503 & zip & CA & CA & Riverside & Riverside-San Bernardino-Ontario, CA & $\\dots$ \\\\\n",
       "\t20 & 96107 & 19 & 90250 & zip & CA & CA & Hawthorne & Los Angeles-Long Beach-Anaheim, CA & $\\dots$ \\\\\n",
       "\t21 & 96025 & 20 & 90044 & zip & CA & CA & Los Angeles & Los Angeles-Long Beach-Anaheim, CA & $\\dots$ \\\\\n",
       "\t22 & 96239 & 21 & 90805 & zip & CA & CA & Long Beach & Los Angeles-Long Beach-Anaheim, CA & $\\dots$ \\\\\n",
       "\t23 & 96125 & 22 & 90280 & zip & CA & CA & South Gate & Los Angeles-Long Beach-Anaheim, CA & $\\dots$ \\\\\n",
       "\t24 & 97223 & 23 & 93307 & zip & CA & CA & Bakersfield & Bakersfield, CA & $\\dots$ \\\\\n",
       "\t25 & 96368 & 24 & 91342 & zip & CA & CA & Los Angeles & Los Angeles-Long Beach-Anaheim, CA & $\\dots$ \\\\\n",
       "\t26 & 96990 & 25 & 92683 & zip & CA & CA & Westminster & Los Angeles-Long Beach-Anaheim, CA & $\\dots$ \\\\\n",
       "\t27 & 96817 & 26 & 92336 & zip & CA & CA & Fontana & Riverside-San Bernardino-Ontario, CA & $\\dots$ \\\\\n",
       "\t28 & 62085 & 27 & 11373 & zip & NY & NY & New York & New York-Newark-Jersey City, NY-NJ-PA & $\\dots$ \\\\\n",
       "\t29 & 84620 & 28 & 60618 & zip & IL & IL & Chicago & Chicago-Naperville-Elgin, IL-IN-WI & $\\dots$ \\\\\n",
       "\t30 & 97771 & 29 & 94565 & zip & CA & CA & Pittsburg & San Francisco-Oakland-Berkeley, CA & $\\dots$ \\\\\n",
       "\t$\\dots$ & $\\dots$ & $\\dots$ & $\\dots$ & $\\dots$ & $\\dots$ & $\\dots$ & $\\dots$ & $\\dots$ &  \\\\\n",
       "\\end{tabular}\n"
      ],
      "text/plain": [
       "\u001b[1m7451984×11 DataFrame\u001b[0m\n",
       "\u001b[1m     Row \u001b[0m│\u001b[1m RegionID \u001b[0m\u001b[1m SizeRank \u001b[0m\u001b[1m zip   \u001b[0m\u001b[1m RegionType \u001b[0m\u001b[1m StateName \u001b[0m\u001b[1m State   \u001b[0m\u001b[1m City    \u001b[0m ⋯\n",
       "\u001b[1m         \u001b[0m│\u001b[90m Int64    \u001b[0m\u001b[90m Int64    \u001b[0m\u001b[90m Int64 \u001b[0m\u001b[90m String3    \u001b[0m\u001b[90m String3   \u001b[0m\u001b[90m String3 \u001b[0m\u001b[90m String31\u001b[0m ⋯\n",
       "─────────┼──────────────────────────────────────────────────────────────────────\n",
       "       1 │    91940         0  77449  zip         TX         TX      \u001b[90m missing \u001b[0m ⋯\n",
       "       2 │    91982         1  77494  zip         TX         TX      \u001b[90m missing\u001b[0m\n",
       "       3 │    93144         2  79936  zip         TX         TX       El Paso\n",
       "       4 │    62080         3  11368  zip         NY         NY       New York\n",
       "       5 │    62093         4  11385  zip         NY         NY       New York ⋯\n",
       "       6 │    95992         5  90011  zip         CA         CA       Los Ange\n",
       "       7 │    84630         6  60629  zip         IL         IL       Chicago\n",
       "       8 │    91733         7  77084  zip         TX         TX       Houston\n",
       "       9 │    96361         8  91331  zip         CA         CA       Los Ange ⋯\n",
       "      10 │    96193         9  90650  zip         CA         CA       Norwalk\n",
       "      11 │    61148        10   8701  zip         NJ         NJ       Lakewood\n",
       "    ⋮    │    ⋮         ⋮        ⋮        ⋮           ⋮         ⋮            ⋮ ⋱\n",
       " 7451975 │    92064     30657  77623  zip         TX         TX       High Isl\n",
       " 7451976 │    94428     30657  84063  zip         UT         UT       Randlett ⋯\n",
       " 7451977 │    77266     30657  44653  zip         OH         OH       Dennison\n",
       " 7451978 │    93941     30657  82515  zip         WY         WY       Riverton\n",
       " 7451979 │    95776     30657  89041  zip         NV         NV       Pahrump\n",
       " 7451980 │    77347     30657  44838  zip         OH         OH      \u001b[90m missing \u001b[0m ⋯\n",
       " 7451981 │    82834     30657  56384  zip         MN         MN       Upsala\n",
       " 7451982 │    62723     30657  12752  zip         NY         NY       Lake Hun\n",
       " 7451983 │    99923     30657  98623  zip         WA         WA       White Sa\n",
       " 7451984 │    69707     30657  28089  zip         NC         NC       Lattimor ⋯\n",
       "\u001b[36m                                              5 columns and 7451963 rows omitted\u001b[0m"
      ]
     },
     "execution_count": 15,
     "metadata": {},
     "output_type": "execute_result"
    },
    {
     "name": "stdout",
     "output_type": "stream",
     "text": [
      "\n"
     ]
    }
   ],
   "source": [
    "\n",
    "@btime z |>\n",
    "    @rename(:variable => :date, :value  => :house_price_index, :RegionName => :zip) |>\n",
    "    DataFrame\n"
   ]
  },
  {
   "cell_type": "code",
   "execution_count": 16,
   "metadata": {},
   "outputs": [
    {
     "name": "stdout",
     "output_type": "stream",
     "text": [
      "  1.569 s (72 allocations: 867.03 MiB)\n"
     ]
    },
    {
     "data": {
      "text/html": [
       "<div class=\"data-frame\"><p>7,451,984 rows × 11 columns (omitted printing of 3 columns)</p><table class=\"data-frame\"><thead><tr><th></th><th>RegionID</th><th>SizeRank</th><th>zip</th><th>RegionType</th><th>StateName</th><th>State</th><th>City</th><th>Metro</th></tr><tr><th></th><th title=\"Int64\">Int64</th><th title=\"Int64\">Int64</th><th title=\"Int64\">Int64</th><th title=\"String3\">String3</th><th title=\"String3\">String3</th><th title=\"String3\">String3</th><th title=\"Union{Missing, String31}\">String31?</th><th title=\"Union{Missing, String}\">String?</th></tr></thead><tbody><tr><th>1</th><td>91940</td><td>0</td><td>77449</td><td>zip</td><td>TX</td><td>TX</td><td><em>missing</em></td><td>Houston-The Woodlands-Sugar Land, TX</td></tr><tr><th>2</th><td>91982</td><td>1</td><td>77494</td><td>zip</td><td>TX</td><td>TX</td><td><em>missing</em></td><td>Houston-The Woodlands-Sugar Land, TX</td></tr><tr><th>3</th><td>93144</td><td>2</td><td>79936</td><td>zip</td><td>TX</td><td>TX</td><td>El Paso</td><td>El Paso, TX</td></tr><tr><th>4</th><td>62080</td><td>3</td><td>11368</td><td>zip</td><td>NY</td><td>NY</td><td>New York</td><td>New York-Newark-Jersey City, NY-NJ-PA</td></tr><tr><th>5</th><td>62093</td><td>4</td><td>11385</td><td>zip</td><td>NY</td><td>NY</td><td>New York</td><td>New York-Newark-Jersey City, NY-NJ-PA</td></tr><tr><th>6</th><td>95992</td><td>5</td><td>90011</td><td>zip</td><td>CA</td><td>CA</td><td>Los Angeles</td><td>Los Angeles-Long Beach-Anaheim, CA</td></tr><tr><th>7</th><td>84630</td><td>6</td><td>60629</td><td>zip</td><td>IL</td><td>IL</td><td>Chicago</td><td>Chicago-Naperville-Elgin, IL-IN-WI</td></tr><tr><th>8</th><td>91733</td><td>7</td><td>77084</td><td>zip</td><td>TX</td><td>TX</td><td>Houston</td><td>Houston-The Woodlands-Sugar Land, TX</td></tr><tr><th>9</th><td>96361</td><td>8</td><td>91331</td><td>zip</td><td>CA</td><td>CA</td><td>Los Angeles</td><td>Los Angeles-Long Beach-Anaheim, CA</td></tr><tr><th>10</th><td>96193</td><td>9</td><td>90650</td><td>zip</td><td>CA</td><td>CA</td><td>Norwalk</td><td>Los Angeles-Long Beach-Anaheim, CA</td></tr><tr><th>11</th><td>61148</td><td>10</td><td>8701</td><td>zip</td><td>NJ</td><td>NJ</td><td>Lakewood</td><td>New York-Newark-Jersey City, NY-NJ-PA</td></tr><tr><th>12</th><td>62046</td><td>11</td><td>11236</td><td>zip</td><td>NY</td><td>NY</td><td>New York</td><td>New York-Newark-Jersey City, NY-NJ-PA</td></tr><tr><th>13</th><td>96083</td><td>12</td><td>90201</td><td>zip</td><td>CA</td><td>CA</td><td>Bell</td><td>Los Angeles-Long Beach-Anaheim, CA</td></tr><tr><th>14</th><td>96816</td><td>13</td><td>92335</td><td>zip</td><td>CA</td><td>CA</td><td>Fontana</td><td>Riverside-San Bernardino-Ontario, CA</td></tr><tr><th>15</th><td>62019</td><td>14</td><td>11208</td><td>zip</td><td>NY</td><td>NY</td><td>New York</td><td>New York-Newark-Jersey City, NY-NJ-PA</td></tr><tr><th>16</th><td>61807</td><td>15</td><td>10467</td><td>zip</td><td>NY</td><td>NY</td><td>New York</td><td>New York-Newark-Jersey City, NY-NJ-PA</td></tr><tr><th>17</th><td>62037</td><td>16</td><td>11226</td><td>zip</td><td>NY</td><td>NY</td><td>New York</td><td>New York-Newark-Jersey City, NY-NJ-PA</td></tr><tr><th>18</th><td>92593</td><td>17</td><td>78660</td><td>zip</td><td>TX</td><td>TX</td><td>Pflugerville</td><td>Austin-Round Rock-Georgetown, TX</td></tr><tr><th>19</th><td>96882</td><td>18</td><td>92503</td><td>zip</td><td>CA</td><td>CA</td><td>Riverside</td><td>Riverside-San Bernardino-Ontario, CA</td></tr><tr><th>20</th><td>96107</td><td>19</td><td>90250</td><td>zip</td><td>CA</td><td>CA</td><td>Hawthorne</td><td>Los Angeles-Long Beach-Anaheim, CA</td></tr><tr><th>21</th><td>96025</td><td>20</td><td>90044</td><td>zip</td><td>CA</td><td>CA</td><td>Los Angeles</td><td>Los Angeles-Long Beach-Anaheim, CA</td></tr><tr><th>22</th><td>96239</td><td>21</td><td>90805</td><td>zip</td><td>CA</td><td>CA</td><td>Long Beach</td><td>Los Angeles-Long Beach-Anaheim, CA</td></tr><tr><th>23</th><td>96125</td><td>22</td><td>90280</td><td>zip</td><td>CA</td><td>CA</td><td>South Gate</td><td>Los Angeles-Long Beach-Anaheim, CA</td></tr><tr><th>24</th><td>97223</td><td>23</td><td>93307</td><td>zip</td><td>CA</td><td>CA</td><td>Bakersfield</td><td>Bakersfield, CA</td></tr><tr><th>25</th><td>96368</td><td>24</td><td>91342</td><td>zip</td><td>CA</td><td>CA</td><td>Los Angeles</td><td>Los Angeles-Long Beach-Anaheim, CA</td></tr><tr><th>26</th><td>96990</td><td>25</td><td>92683</td><td>zip</td><td>CA</td><td>CA</td><td>Westminster</td><td>Los Angeles-Long Beach-Anaheim, CA</td></tr><tr><th>27</th><td>96817</td><td>26</td><td>92336</td><td>zip</td><td>CA</td><td>CA</td><td>Fontana</td><td>Riverside-San Bernardino-Ontario, CA</td></tr><tr><th>28</th><td>62085</td><td>27</td><td>11373</td><td>zip</td><td>NY</td><td>NY</td><td>New York</td><td>New York-Newark-Jersey City, NY-NJ-PA</td></tr><tr><th>29</th><td>84620</td><td>28</td><td>60618</td><td>zip</td><td>IL</td><td>IL</td><td>Chicago</td><td>Chicago-Naperville-Elgin, IL-IN-WI</td></tr><tr><th>30</th><td>97771</td><td>29</td><td>94565</td><td>zip</td><td>CA</td><td>CA</td><td>Pittsburg</td><td>San Francisco-Oakland-Berkeley, CA</td></tr><tr><th>&vellip;</th><td>&vellip;</td><td>&vellip;</td><td>&vellip;</td><td>&vellip;</td><td>&vellip;</td><td>&vellip;</td><td>&vellip;</td><td>&vellip;</td></tr></tbody></table></div>"
      ],
      "text/latex": [
       "\\begin{tabular}{r|ccccccccc}\n",
       "\t& RegionID & SizeRank & zip & RegionType & StateName & State & City & Metro & \\\\\n",
       "\t\\hline\n",
       "\t& Int64 & Int64 & Int64 & String3 & String3 & String3 & String31? & String? & \\\\\n",
       "\t\\hline\n",
       "\t1 & 91940 & 0 & 77449 & zip & TX & TX & \\emph{missing} & Houston-The Woodlands-Sugar Land, TX & $\\dots$ \\\\\n",
       "\t2 & 91982 & 1 & 77494 & zip & TX & TX & \\emph{missing} & Houston-The Woodlands-Sugar Land, TX & $\\dots$ \\\\\n",
       "\t3 & 93144 & 2 & 79936 & zip & TX & TX & El Paso & El Paso, TX & $\\dots$ \\\\\n",
       "\t4 & 62080 & 3 & 11368 & zip & NY & NY & New York & New York-Newark-Jersey City, NY-NJ-PA & $\\dots$ \\\\\n",
       "\t5 & 62093 & 4 & 11385 & zip & NY & NY & New York & New York-Newark-Jersey City, NY-NJ-PA & $\\dots$ \\\\\n",
       "\t6 & 95992 & 5 & 90011 & zip & CA & CA & Los Angeles & Los Angeles-Long Beach-Anaheim, CA & $\\dots$ \\\\\n",
       "\t7 & 84630 & 6 & 60629 & zip & IL & IL & Chicago & Chicago-Naperville-Elgin, IL-IN-WI & $\\dots$ \\\\\n",
       "\t8 & 91733 & 7 & 77084 & zip & TX & TX & Houston & Houston-The Woodlands-Sugar Land, TX & $\\dots$ \\\\\n",
       "\t9 & 96361 & 8 & 91331 & zip & CA & CA & Los Angeles & Los Angeles-Long Beach-Anaheim, CA & $\\dots$ \\\\\n",
       "\t10 & 96193 & 9 & 90650 & zip & CA & CA & Norwalk & Los Angeles-Long Beach-Anaheim, CA & $\\dots$ \\\\\n",
       "\t11 & 61148 & 10 & 8701 & zip & NJ & NJ & Lakewood & New York-Newark-Jersey City, NY-NJ-PA & $\\dots$ \\\\\n",
       "\t12 & 62046 & 11 & 11236 & zip & NY & NY & New York & New York-Newark-Jersey City, NY-NJ-PA & $\\dots$ \\\\\n",
       "\t13 & 96083 & 12 & 90201 & zip & CA & CA & Bell & Los Angeles-Long Beach-Anaheim, CA & $\\dots$ \\\\\n",
       "\t14 & 96816 & 13 & 92335 & zip & CA & CA & Fontana & Riverside-San Bernardino-Ontario, CA & $\\dots$ \\\\\n",
       "\t15 & 62019 & 14 & 11208 & zip & NY & NY & New York & New York-Newark-Jersey City, NY-NJ-PA & $\\dots$ \\\\\n",
       "\t16 & 61807 & 15 & 10467 & zip & NY & NY & New York & New York-Newark-Jersey City, NY-NJ-PA & $\\dots$ \\\\\n",
       "\t17 & 62037 & 16 & 11226 & zip & NY & NY & New York & New York-Newark-Jersey City, NY-NJ-PA & $\\dots$ \\\\\n",
       "\t18 & 92593 & 17 & 78660 & zip & TX & TX & Pflugerville & Austin-Round Rock-Georgetown, TX & $\\dots$ \\\\\n",
       "\t19 & 96882 & 18 & 92503 & zip & CA & CA & Riverside & Riverside-San Bernardino-Ontario, CA & $\\dots$ \\\\\n",
       "\t20 & 96107 & 19 & 90250 & zip & CA & CA & Hawthorne & Los Angeles-Long Beach-Anaheim, CA & $\\dots$ \\\\\n",
       "\t21 & 96025 & 20 & 90044 & zip & CA & CA & Los Angeles & Los Angeles-Long Beach-Anaheim, CA & $\\dots$ \\\\\n",
       "\t22 & 96239 & 21 & 90805 & zip & CA & CA & Long Beach & Los Angeles-Long Beach-Anaheim, CA & $\\dots$ \\\\\n",
       "\t23 & 96125 & 22 & 90280 & zip & CA & CA & South Gate & Los Angeles-Long Beach-Anaheim, CA & $\\dots$ \\\\\n",
       "\t24 & 97223 & 23 & 93307 & zip & CA & CA & Bakersfield & Bakersfield, CA & $\\dots$ \\\\\n",
       "\t25 & 96368 & 24 & 91342 & zip & CA & CA & Los Angeles & Los Angeles-Long Beach-Anaheim, CA & $\\dots$ \\\\\n",
       "\t26 & 96990 & 25 & 92683 & zip & CA & CA & Westminster & Los Angeles-Long Beach-Anaheim, CA & $\\dots$ \\\\\n",
       "\t27 & 96817 & 26 & 92336 & zip & CA & CA & Fontana & Riverside-San Bernardino-Ontario, CA & $\\dots$ \\\\\n",
       "\t28 & 62085 & 27 & 11373 & zip & NY & NY & New York & New York-Newark-Jersey City, NY-NJ-PA & $\\dots$ \\\\\n",
       "\t29 & 84620 & 28 & 60618 & zip & IL & IL & Chicago & Chicago-Naperville-Elgin, IL-IN-WI & $\\dots$ \\\\\n",
       "\t30 & 97771 & 29 & 94565 & zip & CA & CA & Pittsburg & San Francisco-Oakland-Berkeley, CA & $\\dots$ \\\\\n",
       "\t$\\dots$ & $\\dots$ & $\\dots$ & $\\dots$ & $\\dots$ & $\\dots$ & $\\dots$ & $\\dots$ & $\\dots$ &  \\\\\n",
       "\\end{tabular}\n"
      ],
      "text/plain": [
       "\u001b[1m7451984×11 DataFrame\u001b[0m\n",
       "\u001b[1m     Row \u001b[0m│\u001b[1m RegionID \u001b[0m\u001b[1m SizeRank \u001b[0m\u001b[1m zip   \u001b[0m\u001b[1m RegionType \u001b[0m\u001b[1m StateName \u001b[0m\u001b[1m State   \u001b[0m\u001b[1m City    \u001b[0m ⋯\n",
       "\u001b[1m         \u001b[0m│\u001b[90m Int64    \u001b[0m\u001b[90m Int64    \u001b[0m\u001b[90m Int64 \u001b[0m\u001b[90m String3    \u001b[0m\u001b[90m String3   \u001b[0m\u001b[90m String3 \u001b[0m\u001b[90m String31\u001b[0m ⋯\n",
       "─────────┼──────────────────────────────────────────────────────────────────────\n",
       "       1 │    91940         0  77449  zip         TX         TX      \u001b[90m missing \u001b[0m ⋯\n",
       "       2 │    91982         1  77494  zip         TX         TX      \u001b[90m missing\u001b[0m\n",
       "       3 │    93144         2  79936  zip         TX         TX       El Paso\n",
       "       4 │    62080         3  11368  zip         NY         NY       New York\n",
       "       5 │    62093         4  11385  zip         NY         NY       New York ⋯\n",
       "       6 │    95992         5  90011  zip         CA         CA       Los Ange\n",
       "       7 │    84630         6  60629  zip         IL         IL       Chicago\n",
       "       8 │    91733         7  77084  zip         TX         TX       Houston\n",
       "       9 │    96361         8  91331  zip         CA         CA       Los Ange ⋯\n",
       "      10 │    96193         9  90650  zip         CA         CA       Norwalk\n",
       "      11 │    61148        10   8701  zip         NJ         NJ       Lakewood\n",
       "    ⋮    │    ⋮         ⋮        ⋮        ⋮           ⋮         ⋮            ⋮ ⋱\n",
       " 7451975 │    92064     30657  77623  zip         TX         TX       High Isl\n",
       " 7451976 │    94428     30657  84063  zip         UT         UT       Randlett ⋯\n",
       " 7451977 │    77266     30657  44653  zip         OH         OH       Dennison\n",
       " 7451978 │    93941     30657  82515  zip         WY         WY       Riverton\n",
       " 7451979 │    95776     30657  89041  zip         NV         NV       Pahrump\n",
       " 7451980 │    77347     30657  44838  zip         OH         OH      \u001b[90m missing \u001b[0m ⋯\n",
       " 7451981 │    82834     30657  56384  zip         MN         MN       Upsala\n",
       " 7451982 │    62723     30657  12752  zip         NY         NY       Lake Hun\n",
       " 7451983 │    99923     30657  98623  zip         WA         WA       White Sa\n",
       " 7451984 │    69707     30657  28089  zip         NC         NC       Lattimor ⋯\n",
       "\u001b[36m                                              5 columns and 7451963 rows omitted\u001b[0m"
      ]
     },
     "execution_count": 16,
     "metadata": {},
     "output_type": "execute_result"
    }
   ],
   "source": [
    "@btime rename(z,:variable => :date, :value => :house_price_index, :RegionName => :zip)"
   ]
  },
  {
   "cell_type": "markdown",
   "metadata": {},
   "source": [
    "When comparing the two functions, there is much less of a difference when compared to the subsetting functions. Where the subset functions were of orders of magnitude different in terms of computation time, the difference between the renaming functions is much smaller. That being said, the rename function was still about 3x faster than the @rename macro. \n",
    "\n",
    "When testing this, I accidentially forgot to convert the macro back into a dataframe. When I did that, the resulting code excutation time was in terms of micro seconds, instead of the seconds. This lends creadence to my theorey that is the reulting conversion back to a dataframe that is slowing down the `Query` macros.\n",
    "\n",
    "### Selecting/Removing Columns from a DataFrame\n",
    "\n",
    "Here we will compare the times to remove columns from a dataframe. Again we will use the `@select` macro from the `Query` package, as well as the `select()` function from the `DataFrame` package."
   ]
  },
  {
   "cell_type": "code",
   "execution_count": 17,
   "metadata": {},
   "outputs": [
    {
     "name": "stdout",
     "output_type": "stream",
     "text": [
      "  3.386 s (14904086 allocations: 2.04 GiB)\n"
     ]
    },
    {
     "data": {
      "text/html": [
       "<div class=\"data-frame\"><p>7,451,984 rows × 7 columns (omitted printing of 2 columns)</p><table class=\"data-frame\"><thead><tr><th></th><th>RegionName</th><th>State</th><th>City</th><th>Metro</th><th>CountyName</th></tr><tr><th></th><th title=\"Int64\">Int64</th><th title=\"String3\">String3</th><th title=\"Union{Missing, String31}\">String31?</th><th title=\"Union{Missing, String}\">String?</th><th title=\"String31\">String31</th></tr></thead><tbody><tr><th>1</th><td>77449</td><td>TX</td><td><em>missing</em></td><td>Houston-The Woodlands-Sugar Land, TX</td><td>Harris County</td></tr><tr><th>2</th><td>77494</td><td>TX</td><td><em>missing</em></td><td>Houston-The Woodlands-Sugar Land, TX</td><td>Fort Bend County</td></tr><tr><th>3</th><td>79936</td><td>TX</td><td>El Paso</td><td>El Paso, TX</td><td>El Paso County</td></tr><tr><th>4</th><td>11368</td><td>NY</td><td>New York</td><td>New York-Newark-Jersey City, NY-NJ-PA</td><td>Queens County</td></tr><tr><th>5</th><td>11385</td><td>NY</td><td>New York</td><td>New York-Newark-Jersey City, NY-NJ-PA</td><td>Queens County</td></tr><tr><th>6</th><td>90011</td><td>CA</td><td>Los Angeles</td><td>Los Angeles-Long Beach-Anaheim, CA</td><td>Los Angeles County</td></tr><tr><th>7</th><td>60629</td><td>IL</td><td>Chicago</td><td>Chicago-Naperville-Elgin, IL-IN-WI</td><td>Cook County</td></tr><tr><th>8</th><td>77084</td><td>TX</td><td>Houston</td><td>Houston-The Woodlands-Sugar Land, TX</td><td>Harris County</td></tr><tr><th>9</th><td>91331</td><td>CA</td><td>Los Angeles</td><td>Los Angeles-Long Beach-Anaheim, CA</td><td>Los Angeles County</td></tr><tr><th>10</th><td>90650</td><td>CA</td><td>Norwalk</td><td>Los Angeles-Long Beach-Anaheim, CA</td><td>Los Angeles County</td></tr><tr><th>11</th><td>8701</td><td>NJ</td><td>Lakewood</td><td>New York-Newark-Jersey City, NY-NJ-PA</td><td>Ocean County</td></tr><tr><th>12</th><td>11236</td><td>NY</td><td>New York</td><td>New York-Newark-Jersey City, NY-NJ-PA</td><td>Kings County</td></tr><tr><th>13</th><td>90201</td><td>CA</td><td>Bell</td><td>Los Angeles-Long Beach-Anaheim, CA</td><td>Los Angeles County</td></tr><tr><th>14</th><td>92335</td><td>CA</td><td>Fontana</td><td>Riverside-San Bernardino-Ontario, CA</td><td>San Bernardino County</td></tr><tr><th>15</th><td>11208</td><td>NY</td><td>New York</td><td>New York-Newark-Jersey City, NY-NJ-PA</td><td>Kings County</td></tr><tr><th>16</th><td>10467</td><td>NY</td><td>New York</td><td>New York-Newark-Jersey City, NY-NJ-PA</td><td>Bronx County</td></tr><tr><th>17</th><td>11226</td><td>NY</td><td>New York</td><td>New York-Newark-Jersey City, NY-NJ-PA</td><td>Kings County</td></tr><tr><th>18</th><td>78660</td><td>TX</td><td>Pflugerville</td><td>Austin-Round Rock-Georgetown, TX</td><td>Travis County</td></tr><tr><th>19</th><td>92503</td><td>CA</td><td>Riverside</td><td>Riverside-San Bernardino-Ontario, CA</td><td>Riverside County</td></tr><tr><th>20</th><td>90250</td><td>CA</td><td>Hawthorne</td><td>Los Angeles-Long Beach-Anaheim, CA</td><td>Los Angeles County</td></tr><tr><th>21</th><td>90044</td><td>CA</td><td>Los Angeles</td><td>Los Angeles-Long Beach-Anaheim, CA</td><td>Los Angeles County</td></tr><tr><th>22</th><td>90805</td><td>CA</td><td>Long Beach</td><td>Los Angeles-Long Beach-Anaheim, CA</td><td>Los Angeles County</td></tr><tr><th>23</th><td>90280</td><td>CA</td><td>South Gate</td><td>Los Angeles-Long Beach-Anaheim, CA</td><td>Los Angeles County</td></tr><tr><th>24</th><td>93307</td><td>CA</td><td>Bakersfield</td><td>Bakersfield, CA</td><td>Kern County</td></tr><tr><th>25</th><td>91342</td><td>CA</td><td>Los Angeles</td><td>Los Angeles-Long Beach-Anaheim, CA</td><td>Los Angeles County</td></tr><tr><th>26</th><td>92683</td><td>CA</td><td>Westminster</td><td>Los Angeles-Long Beach-Anaheim, CA</td><td>Orange County</td></tr><tr><th>27</th><td>92336</td><td>CA</td><td>Fontana</td><td>Riverside-San Bernardino-Ontario, CA</td><td>San Bernardino County</td></tr><tr><th>28</th><td>11373</td><td>NY</td><td>New York</td><td>New York-Newark-Jersey City, NY-NJ-PA</td><td>Queens County</td></tr><tr><th>29</th><td>60618</td><td>IL</td><td>Chicago</td><td>Chicago-Naperville-Elgin, IL-IN-WI</td><td>Cook County</td></tr><tr><th>30</th><td>94565</td><td>CA</td><td>Pittsburg</td><td>San Francisco-Oakland-Berkeley, CA</td><td>Contra Costa County</td></tr><tr><th>&vellip;</th><td>&vellip;</td><td>&vellip;</td><td>&vellip;</td><td>&vellip;</td><td>&vellip;</td></tr></tbody></table></div>"
      ],
      "text/latex": [
       "\\begin{tabular}{r|cccccc}\n",
       "\t& RegionName & State & City & Metro & CountyName & \\\\\n",
       "\t\\hline\n",
       "\t& Int64 & String3 & String31? & String? & String31 & \\\\\n",
       "\t\\hline\n",
       "\t1 & 77449 & TX & \\emph{missing} & Houston-The Woodlands-Sugar Land, TX & Harris County & $\\dots$ \\\\\n",
       "\t2 & 77494 & TX & \\emph{missing} & Houston-The Woodlands-Sugar Land, TX & Fort Bend County & $\\dots$ \\\\\n",
       "\t3 & 79936 & TX & El Paso & El Paso, TX & El Paso County & $\\dots$ \\\\\n",
       "\t4 & 11368 & NY & New York & New York-Newark-Jersey City, NY-NJ-PA & Queens County & $\\dots$ \\\\\n",
       "\t5 & 11385 & NY & New York & New York-Newark-Jersey City, NY-NJ-PA & Queens County & $\\dots$ \\\\\n",
       "\t6 & 90011 & CA & Los Angeles & Los Angeles-Long Beach-Anaheim, CA & Los Angeles County & $\\dots$ \\\\\n",
       "\t7 & 60629 & IL & Chicago & Chicago-Naperville-Elgin, IL-IN-WI & Cook County & $\\dots$ \\\\\n",
       "\t8 & 77084 & TX & Houston & Houston-The Woodlands-Sugar Land, TX & Harris County & $\\dots$ \\\\\n",
       "\t9 & 91331 & CA & Los Angeles & Los Angeles-Long Beach-Anaheim, CA & Los Angeles County & $\\dots$ \\\\\n",
       "\t10 & 90650 & CA & Norwalk & Los Angeles-Long Beach-Anaheim, CA & Los Angeles County & $\\dots$ \\\\\n",
       "\t11 & 8701 & NJ & Lakewood & New York-Newark-Jersey City, NY-NJ-PA & Ocean County & $\\dots$ \\\\\n",
       "\t12 & 11236 & NY & New York & New York-Newark-Jersey City, NY-NJ-PA & Kings County & $\\dots$ \\\\\n",
       "\t13 & 90201 & CA & Bell & Los Angeles-Long Beach-Anaheim, CA & Los Angeles County & $\\dots$ \\\\\n",
       "\t14 & 92335 & CA & Fontana & Riverside-San Bernardino-Ontario, CA & San Bernardino County & $\\dots$ \\\\\n",
       "\t15 & 11208 & NY & New York & New York-Newark-Jersey City, NY-NJ-PA & Kings County & $\\dots$ \\\\\n",
       "\t16 & 10467 & NY & New York & New York-Newark-Jersey City, NY-NJ-PA & Bronx County & $\\dots$ \\\\\n",
       "\t17 & 11226 & NY & New York & New York-Newark-Jersey City, NY-NJ-PA & Kings County & $\\dots$ \\\\\n",
       "\t18 & 78660 & TX & Pflugerville & Austin-Round Rock-Georgetown, TX & Travis County & $\\dots$ \\\\\n",
       "\t19 & 92503 & CA & Riverside & Riverside-San Bernardino-Ontario, CA & Riverside County & $\\dots$ \\\\\n",
       "\t20 & 90250 & CA & Hawthorne & Los Angeles-Long Beach-Anaheim, CA & Los Angeles County & $\\dots$ \\\\\n",
       "\t21 & 90044 & CA & Los Angeles & Los Angeles-Long Beach-Anaheim, CA & Los Angeles County & $\\dots$ \\\\\n",
       "\t22 & 90805 & CA & Long Beach & Los Angeles-Long Beach-Anaheim, CA & Los Angeles County & $\\dots$ \\\\\n",
       "\t23 & 90280 & CA & South Gate & Los Angeles-Long Beach-Anaheim, CA & Los Angeles County & $\\dots$ \\\\\n",
       "\t24 & 93307 & CA & Bakersfield & Bakersfield, CA & Kern County & $\\dots$ \\\\\n",
       "\t25 & 91342 & CA & Los Angeles & Los Angeles-Long Beach-Anaheim, CA & Los Angeles County & $\\dots$ \\\\\n",
       "\t26 & 92683 & CA & Westminster & Los Angeles-Long Beach-Anaheim, CA & Orange County & $\\dots$ \\\\\n",
       "\t27 & 92336 & CA & Fontana & Riverside-San Bernardino-Ontario, CA & San Bernardino County & $\\dots$ \\\\\n",
       "\t28 & 11373 & NY & New York & New York-Newark-Jersey City, NY-NJ-PA & Queens County & $\\dots$ \\\\\n",
       "\t29 & 60618 & IL & Chicago & Chicago-Naperville-Elgin, IL-IN-WI & Cook County & $\\dots$ \\\\\n",
       "\t30 & 94565 & CA & Pittsburg & San Francisco-Oakland-Berkeley, CA & Contra Costa County & $\\dots$ \\\\\n",
       "\t$\\dots$ & $\\dots$ & $\\dots$ & $\\dots$ & $\\dots$ & $\\dots$ &  \\\\\n",
       "\\end{tabular}\n"
      ],
      "text/plain": [
       "\u001b[1m7451984×7 DataFrame\u001b[0m\n",
       "\u001b[1m     Row \u001b[0m│\u001b[1m RegionName \u001b[0m\u001b[1m State   \u001b[0m\u001b[1m City            \u001b[0m\u001b[1m Metro                        \u001b[0m ⋯\n",
       "\u001b[1m         \u001b[0m│\u001b[90m Int64      \u001b[0m\u001b[90m String3 \u001b[0m\u001b[90m String31?       \u001b[0m\u001b[90m String?                      \u001b[0m ⋯\n",
       "─────────┼──────────────────────────────────────────────────────────────────────\n",
       "       1 │      77449  TX      \u001b[90m missing         \u001b[0m Houston-The Woodlands-Sugar L ⋯\n",
       "       2 │      77494  TX      \u001b[90m missing         \u001b[0m Houston-The Woodlands-Sugar L\n",
       "       3 │      79936  TX       El Paso          El Paso, TX\n",
       "       4 │      11368  NY       New York         New York-Newark-Jersey City,\n",
       "       5 │      11385  NY       New York         New York-Newark-Jersey City,  ⋯\n",
       "       6 │      90011  CA       Los Angeles      Los Angeles-Long Beach-Anahei\n",
       "       7 │      60629  IL       Chicago          Chicago-Naperville-Elgin, IL-\n",
       "       8 │      77084  TX       Houston          Houston-The Woodlands-Sugar L\n",
       "       9 │      91331  CA       Los Angeles      Los Angeles-Long Beach-Anahei ⋯\n",
       "      10 │      90650  CA       Norwalk          Los Angeles-Long Beach-Anahei\n",
       "      11 │       8701  NJ       Lakewood         New York-Newark-Jersey City,\n",
       "    ⋮    │     ⋮          ⋮            ⋮                         ⋮             ⋱\n",
       " 7451975 │      77623  TX       High Island      Houston-The Woodlands-Sugar L\n",
       " 7451976 │      84063  UT       Randlett         Vernal, UT                    ⋯\n",
       " 7451977 │      44653  OH       Dennison         New Philadelphia-Dover, OH\n",
       " 7451978 │      82515  WY       Riverton         Riverton, WY\n",
       " 7451979 │      89041  NV       Pahrump          Pahrump, NV\n",
       " 7451980 │      44838  OH      \u001b[90m missing         \u001b[0m Ashland, OH                   ⋯\n",
       " 7451981 │      56384  MN       Upsala          \u001b[90m missing\u001b[0m\n",
       " 7451982 │      12752  NY       Lake Huntington \u001b[90m missing\u001b[0m\n",
       " 7451983 │      98623  WA       White Salmon    \u001b[90m missing\u001b[0m\n",
       " 7451984 │      28089  NC       Lattimore        Shelby, NC                    ⋯\n",
       "\u001b[36m                                              4 columns and 7451963 rows omitted\u001b[0m"
      ]
     },
     "execution_count": 17,
     "metadata": {},
     "output_type": "execute_result"
    }
   ],
   "source": [
    "@btime z |> @select(-:SizeRank, -:StateName, -:RegionType, -:RegionID) |> DataFrame"
   ]
  },
  {
   "cell_type": "code",
   "execution_count": 18,
   "metadata": {},
   "outputs": [
    {
     "name": "stdout",
     "output_type": "stream",
     "text": [
      "  2.184 s (245 allocations: 867.04 MiB)"
     ]
    },
    {
     "data": {
      "text/html": [
       "<div class=\"data-frame\"><p>7,451,984 rows × 11 columns (omitted printing of 4 columns)</p><table class=\"data-frame\"><thead><tr><th></th><th>RegionID</th><th>RegionName</th><th>RegionType</th><th>StateName</th><th>State</th><th>City</th><th>Metro</th></tr><tr><th></th><th title=\"Int64\">Int64</th><th title=\"Int64\">Int64</th><th title=\"String3\">String3</th><th title=\"String3\">String3</th><th title=\"String3\">String3</th><th title=\"Union{Missing, String31}\">String31?</th><th title=\"Union{Missing, String}\">String?</th></tr></thead><tbody><tr><th>1</th><td>91940</td><td>77449</td><td>zip</td><td>TX</td><td>TX</td><td><em>missing</em></td><td>Houston-The Woodlands-Sugar Land, TX</td></tr><tr><th>2</th><td>91982</td><td>77494</td><td>zip</td><td>TX</td><td>TX</td><td><em>missing</em></td><td>Houston-The Woodlands-Sugar Land, TX</td></tr><tr><th>3</th><td>93144</td><td>79936</td><td>zip</td><td>TX</td><td>TX</td><td>El Paso</td><td>El Paso, TX</td></tr><tr><th>4</th><td>62080</td><td>11368</td><td>zip</td><td>NY</td><td>NY</td><td>New York</td><td>New York-Newark-Jersey City, NY-NJ-PA</td></tr><tr><th>5</th><td>62093</td><td>11385</td><td>zip</td><td>NY</td><td>NY</td><td>New York</td><td>New York-Newark-Jersey City, NY-NJ-PA</td></tr><tr><th>6</th><td>95992</td><td>90011</td><td>zip</td><td>CA</td><td>CA</td><td>Los Angeles</td><td>Los Angeles-Long Beach-Anaheim, CA</td></tr><tr><th>7</th><td>84630</td><td>60629</td><td>zip</td><td>IL</td><td>IL</td><td>Chicago</td><td>Chicago-Naperville-Elgin, IL-IN-WI</td></tr><tr><th>8</th><td>91733</td><td>77084</td><td>zip</td><td>TX</td><td>TX</td><td>Houston</td><td>Houston-The Woodlands-Sugar Land, TX</td></tr><tr><th>9</th><td>96361</td><td>91331</td><td>zip</td><td>CA</td><td>CA</td><td>Los Angeles</td><td>Los Angeles-Long Beach-Anaheim, CA</td></tr><tr><th>10</th><td>96193</td><td>90650</td><td>zip</td><td>CA</td><td>CA</td><td>Norwalk</td><td>Los Angeles-Long Beach-Anaheim, CA</td></tr><tr><th>11</th><td>61148</td><td>8701</td><td>zip</td><td>NJ</td><td>NJ</td><td>Lakewood</td><td>New York-Newark-Jersey City, NY-NJ-PA</td></tr><tr><th>12</th><td>62046</td><td>11236</td><td>zip</td><td>NY</td><td>NY</td><td>New York</td><td>New York-Newark-Jersey City, NY-NJ-PA</td></tr><tr><th>13</th><td>96083</td><td>90201</td><td>zip</td><td>CA</td><td>CA</td><td>Bell</td><td>Los Angeles-Long Beach-Anaheim, CA</td></tr><tr><th>14</th><td>96816</td><td>92335</td><td>zip</td><td>CA</td><td>CA</td><td>Fontana</td><td>Riverside-San Bernardino-Ontario, CA</td></tr><tr><th>15</th><td>62019</td><td>11208</td><td>zip</td><td>NY</td><td>NY</td><td>New York</td><td>New York-Newark-Jersey City, NY-NJ-PA</td></tr><tr><th>16</th><td>61807</td><td>10467</td><td>zip</td><td>NY</td><td>NY</td><td>New York</td><td>New York-Newark-Jersey City, NY-NJ-PA</td></tr><tr><th>17</th><td>62037</td><td>11226</td><td>zip</td><td>NY</td><td>NY</td><td>New York</td><td>New York-Newark-Jersey City, NY-NJ-PA</td></tr><tr><th>18</th><td>92593</td><td>78660</td><td>zip</td><td>TX</td><td>TX</td><td>Pflugerville</td><td>Austin-Round Rock-Georgetown, TX</td></tr><tr><th>19</th><td>96882</td><td>92503</td><td>zip</td><td>CA</td><td>CA</td><td>Riverside</td><td>Riverside-San Bernardino-Ontario, CA</td></tr><tr><th>20</th><td>96107</td><td>90250</td><td>zip</td><td>CA</td><td>CA</td><td>Hawthorne</td><td>Los Angeles-Long Beach-Anaheim, CA</td></tr><tr><th>21</th><td>96025</td><td>90044</td><td>zip</td><td>CA</td><td>CA</td><td>Los Angeles</td><td>Los Angeles-Long Beach-Anaheim, CA</td></tr><tr><th>22</th><td>96239</td><td>90805</td><td>zip</td><td>CA</td><td>CA</td><td>Long Beach</td><td>Los Angeles-Long Beach-Anaheim, CA</td></tr><tr><th>23</th><td>96125</td><td>90280</td><td>zip</td><td>CA</td><td>CA</td><td>South Gate</td><td>Los Angeles-Long Beach-Anaheim, CA</td></tr><tr><th>24</th><td>97223</td><td>93307</td><td>zip</td><td>CA</td><td>CA</td><td>Bakersfield</td><td>Bakersfield, CA</td></tr><tr><th>25</th><td>96368</td><td>91342</td><td>zip</td><td>CA</td><td>CA</td><td>Los Angeles</td><td>Los Angeles-Long Beach-Anaheim, CA</td></tr><tr><th>26</th><td>96990</td><td>92683</td><td>zip</td><td>CA</td><td>CA</td><td>Westminster</td><td>Los Angeles-Long Beach-Anaheim, CA</td></tr><tr><th>27</th><td>96817</td><td>92336</td><td>zip</td><td>CA</td><td>CA</td><td>Fontana</td><td>Riverside-San Bernardino-Ontario, CA</td></tr><tr><th>28</th><td>62085</td><td>11373</td><td>zip</td><td>NY</td><td>NY</td><td>New York</td><td>New York-Newark-Jersey City, NY-NJ-PA</td></tr><tr><th>29</th><td>84620</td><td>60618</td><td>zip</td><td>IL</td><td>IL</td><td>Chicago</td><td>Chicago-Naperville-Elgin, IL-IN-WI</td></tr><tr><th>30</th><td>97771</td><td>94565</td><td>zip</td><td>CA</td><td>CA</td><td>Pittsburg</td><td>San Francisco-Oakland-Berkeley, CA</td></tr><tr><th>&vellip;</th><td>&vellip;</td><td>&vellip;</td><td>&vellip;</td><td>&vellip;</td><td>&vellip;</td><td>&vellip;</td><td>&vellip;</td></tr></tbody></table></div>"
      ],
      "text/latex": [
       "\\begin{tabular}{r|cccccccc}\n",
       "\t& RegionID & RegionName & RegionType & StateName & State & City & Metro & \\\\\n",
       "\t\\hline\n",
       "\t& Int64 & Int64 & String3 & String3 & String3 & String31? & String? & \\\\\n",
       "\t\\hline\n",
       "\t1 & 91940 & 77449 & zip & TX & TX & \\emph{missing} & Houston-The Woodlands-Sugar Land, TX & $\\dots$ \\\\\n",
       "\t2 & 91982 & 77494 & zip & TX & TX & \\emph{missing} & Houston-The Woodlands-Sugar Land, TX & $\\dots$ \\\\\n",
       "\t3 & 93144 & 79936 & zip & TX & TX & El Paso & El Paso, TX & $\\dots$ \\\\\n",
       "\t4 & 62080 & 11368 & zip & NY & NY & New York & New York-Newark-Jersey City, NY-NJ-PA & $\\dots$ \\\\\n",
       "\t5 & 62093 & 11385 & zip & NY & NY & New York & New York-Newark-Jersey City, NY-NJ-PA & $\\dots$ \\\\\n",
       "\t6 & 95992 & 90011 & zip & CA & CA & Los Angeles & Los Angeles-Long Beach-Anaheim, CA & $\\dots$ \\\\\n",
       "\t7 & 84630 & 60629 & zip & IL & IL & Chicago & Chicago-Naperville-Elgin, IL-IN-WI & $\\dots$ \\\\\n",
       "\t8 & 91733 & 77084 & zip & TX & TX & Houston & Houston-The Woodlands-Sugar Land, TX & $\\dots$ \\\\\n",
       "\t9 & 96361 & 91331 & zip & CA & CA & Los Angeles & Los Angeles-Long Beach-Anaheim, CA & $\\dots$ \\\\\n",
       "\t10 & 96193 & 90650 & zip & CA & CA & Norwalk & Los Angeles-Long Beach-Anaheim, CA & $\\dots$ \\\\\n",
       "\t11 & 61148 & 8701 & zip & NJ & NJ & Lakewood & New York-Newark-Jersey City, NY-NJ-PA & $\\dots$ \\\\\n",
       "\t12 & 62046 & 11236 & zip & NY & NY & New York & New York-Newark-Jersey City, NY-NJ-PA & $\\dots$ \\\\\n",
       "\t13 & 96083 & 90201 & zip & CA & CA & Bell & Los Angeles-Long Beach-Anaheim, CA & $\\dots$ \\\\\n",
       "\t14 & 96816 & 92335 & zip & CA & CA & Fontana & Riverside-San Bernardino-Ontario, CA & $\\dots$ \\\\\n",
       "\t15 & 62019 & 11208 & zip & NY & NY & New York & New York-Newark-Jersey City, NY-NJ-PA & $\\dots$ \\\\\n",
       "\t16 & 61807 & 10467 & zip & NY & NY & New York & New York-Newark-Jersey City, NY-NJ-PA & $\\dots$ \\\\\n",
       "\t17 & 62037 & 11226 & zip & NY & NY & New York & New York-Newark-Jersey City, NY-NJ-PA & $\\dots$ \\\\\n",
       "\t18 & 92593 & 78660 & zip & TX & TX & Pflugerville & Austin-Round Rock-Georgetown, TX & $\\dots$ \\\\\n",
       "\t19 & 96882 & 92503 & zip & CA & CA & Riverside & Riverside-San Bernardino-Ontario, CA & $\\dots$ \\\\\n",
       "\t20 & 96107 & 90250 & zip & CA & CA & Hawthorne & Los Angeles-Long Beach-Anaheim, CA & $\\dots$ \\\\\n",
       "\t21 & 96025 & 90044 & zip & CA & CA & Los Angeles & Los Angeles-Long Beach-Anaheim, CA & $\\dots$ \\\\\n",
       "\t22 & 96239 & 90805 & zip & CA & CA & Long Beach & Los Angeles-Long Beach-Anaheim, CA & $\\dots$ \\\\\n",
       "\t23 & 96125 & 90280 & zip & CA & CA & South Gate & Los Angeles-Long Beach-Anaheim, CA & $\\dots$ \\\\\n",
       "\t24 & 97223 & 93307 & zip & CA & CA & Bakersfield & Bakersfield, CA & $\\dots$ \\\\\n",
       "\t25 & 96368 & 91342 & zip & CA & CA & Los Angeles & Los Angeles-Long Beach-Anaheim, CA & $\\dots$ \\\\\n",
       "\t26 & 96990 & 92683 & zip & CA & CA & Westminster & Los Angeles-Long Beach-Anaheim, CA & $\\dots$ \\\\\n",
       "\t27 & 96817 & 92336 & zip & CA & CA & Fontana & Riverside-San Bernardino-Ontario, CA & $\\dots$ \\\\\n",
       "\t28 & 62085 & 11373 & zip & NY & NY & New York & New York-Newark-Jersey City, NY-NJ-PA & $\\dots$ \\\\\n",
       "\t29 & 84620 & 60618 & zip & IL & IL & Chicago & Chicago-Naperville-Elgin, IL-IN-WI & $\\dots$ \\\\\n",
       "\t30 & 97771 & 94565 & zip & CA & CA & Pittsburg & San Francisco-Oakland-Berkeley, CA & $\\dots$ \\\\\n",
       "\t$\\dots$ & $\\dots$ & $\\dots$ & $\\dots$ & $\\dots$ & $\\dots$ & $\\dots$ & $\\dots$ &  \\\\\n",
       "\\end{tabular}\n"
      ],
      "text/plain": [
       "\u001b[1m7451984×11 DataFrame\u001b[0m\n",
       "\u001b[1m     Row \u001b[0m│\u001b[1m RegionID \u001b[0m\u001b[1m RegionName \u001b[0m\u001b[1m RegionType \u001b[0m\u001b[1m StateName \u001b[0m\u001b[1m State   \u001b[0m\u001b[1m City         \u001b[0m ⋯\n",
       "\u001b[1m         \u001b[0m│\u001b[90m Int64    \u001b[0m\u001b[90m Int64      \u001b[0m\u001b[90m String3    \u001b[0m\u001b[90m String3   \u001b[0m\u001b[90m String3 \u001b[0m\u001b[90m String31?    \u001b[0m ⋯\n",
       "─────────┼──────────────────────────────────────────────────────────────────────\n",
       "       1 │    91940       77449  zip         TX         TX      \u001b[90m missing      \u001b[0m ⋯\n",
       "       2 │    91982       77494  zip         TX         TX      \u001b[90m missing\u001b[0m\n",
       "       3 │    93144       79936  zip         TX         TX       El Paso\n",
       "       4 │    62080       11368  zip         NY         NY       New York\n",
       "       5 │    62093       11385  zip         NY         NY       New York      ⋯\n",
       "       6 │    95992       90011  zip         CA         CA       Los Angeles\n",
       "       7 │    84630       60629  zip         IL         IL       Chicago\n",
       "       8 │    91733       77084  zip         TX         TX       Houston\n",
       "       9 │    96361       91331  zip         CA         CA       Los Angeles   ⋯\n",
       "      10 │    96193       90650  zip         CA         CA       Norwalk\n",
       "      11 │    61148        8701  zip         NJ         NJ       Lakewood\n",
       "    ⋮    │    ⋮          ⋮           ⋮           ⋮         ⋮            ⋮      ⋱\n",
       " 7451975 │    92064       77623  zip         TX         TX       High Island\n",
       " 7451976 │    94428       84063  zip         UT         UT       Randlett      ⋯\n",
       " 7451977 │    77266       44653  zip         OH         OH       Dennison\n",
       " 7451978 │    93941       82515  zip         WY         WY       Riverton\n",
       " 7451979 │    95776       89041  zip         NV         NV       Pahrump\n",
       " 7451980 │    77347       44838  zip         OH         OH      \u001b[90m missing      \u001b[0m ⋯\n",
       " 7451981 │    82834       56384  zip         MN         MN       Upsala\n",
       " 7451982 │    62723       12752  zip         NY         NY       Lake Huntingt\n",
       " 7451983 │    99923       98623  zip         WA         WA       White Salmon\n",
       " 7451984 │    69707       28089  zip         NC         NC       Lattimore     ⋯\n",
       "\u001b[36m                                              6 columns and 7451963 rows omitted\u001b[0m"
      ]
     },
     "execution_count": 18,
     "metadata": {},
     "output_type": "execute_result"
    },
    {
     "name": "stdout",
     "output_type": "stream",
     "text": [
      "\n"
     ]
    }
   ],
   "source": [
    "@btime select(z,Not(:SizeRank), Not(:StateName), Not(:RegionType), Not(:RegionID))"
   ]
  },
  {
   "cell_type": "markdown",
   "metadata": {},
   "source": [
    "The difference between these two methods is small, but again the DataFrame function of `select()` edges the `Query` macro in terms of performance."
   ]
  },
  {
   "cell_type": "code",
   "execution_count": 19,
   "metadata": {},
   "outputs": [],
   "source": [
    "# don't run this again, full time was 44m, compute time was 821s\n",
    "using Dates\n",
    "#@btime z |> @mutate(variable = Date(_.variable,DateFormat(\"y-m-d\"))) |> DataFrame"
   ]
  },
  {
   "cell_type": "code",
   "execution_count": 20,
   "metadata": {},
   "outputs": [],
   "source": [
    "# I don't know why but converting files into dates using the Date. package is incredibly intensive\n",
    "# I will try to find a different package to convert dates, or find a different methods\n",
    "#@btime transform(z,:variable => (time -> Date.(time,DateFormat(\"y-m-d\"))))"
   ]
  }
 ],
 "metadata": {
  "kernelspec": {
   "display_name": "Julia 1.7.1",
   "language": "julia",
   "name": "julia-1.7"
  },
  "language_info": {
   "file_extension": ".jl",
   "mimetype": "application/julia",
   "name": "julia",
   "version": "1.7.1"
  },
  "orig_nbformat": 4
 },
 "nbformat": 4,
 "nbformat_minor": 2
}
